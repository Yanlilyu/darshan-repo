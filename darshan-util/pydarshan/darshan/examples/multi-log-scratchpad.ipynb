{
 "cells": [
  {
   "cell_type": "code",
   "execution_count": 1,
   "id": "acc17ec9",
   "metadata": {},
   "outputs": [],
   "source": [
    "import darshan"
   ]
  },
  {
   "cell_type": "markdown",
   "id": "9dc378c3",
   "metadata": {},
   "source": [
    "#### Open Darshan log file and read in data"
   ]
  },
  {
   "cell_type": "code",
   "execution_count": 2,
   "id": "0449a558",
   "metadata": {},
   "outputs": [
    {
     "data": {
      "text/plain": [
       "['__add__',\n",
       " '__class__',\n",
       " '__deepcopy__',\n",
       " '__del__',\n",
       " '__delattr__',\n",
       " '__dict__',\n",
       " '__dir__',\n",
       " '__doc__',\n",
       " '__enter__',\n",
       " '__eq__',\n",
       " '__exit__',\n",
       " '__format__',\n",
       " '__ge__',\n",
       " '__getattribute__',\n",
       " '__gt__',\n",
       " '__hash__',\n",
       " '__init__',\n",
       " '__init_subclass__',\n",
       " '__le__',\n",
       " '__lt__',\n",
       " '__module__',\n",
       " '__ne__',\n",
       " '__new__',\n",
       " '__reduce__',\n",
       " '__reduce_ex__',\n",
       " '__repr__',\n",
       " '__setattr__',\n",
       " '__sizeof__',\n",
       " '__str__',\n",
       " '__subclasshook__',\n",
       " '__weakref__',\n",
       " '_cleanup',\n",
       " '_counters',\n",
       " '_heatmaps',\n",
       " '_metadata',\n",
       " '_modules',\n",
       " '_mounts',\n",
       " 'automatic_summary',\n",
       " 'converted_records',\n",
       " 'counters',\n",
       " 'data',\n",
       " 'data_revision',\n",
       " 'dtype',\n",
       " 'end_time',\n",
       " 'filename',\n",
       " 'heatmaps',\n",
       " 'info',\n",
       " 'log',\n",
       " 'lookup_name_records',\n",
       " 'metadata',\n",
       " 'mod_read_all_apmpi_records',\n",
       " 'mod_read_all_apxc_records',\n",
       " 'mod_read_all_dxt_records',\n",
       " 'mod_read_all_lustre_records',\n",
       " 'mod_read_all_records',\n",
       " 'mod_records',\n",
       " 'modules',\n",
       " 'mounts',\n",
       " 'name_records',\n",
       " 'open',\n",
       " 'provenance_enabled',\n",
       " 'provenance_graph',\n",
       " 'provenance_reports',\n",
       " 'read_all',\n",
       " 'read_all_dxt_records',\n",
       " 'read_all_generic_records',\n",
       " 'read_all_heatmap_records',\n",
       " 'read_metadata',\n",
       " 'rebase_timestamps',\n",
       " 'records',\n",
       " 'start_time',\n",
       " 'summary',\n",
       " 'summary_revision',\n",
       " 'timebase',\n",
       " 'to_dict',\n",
       " 'to_json',\n",
       " 'update_name_records']"
      ]
     },
     "execution_count": 2,
     "metadata": {},
     "output_type": "execute_result"
    }
   ],
   "source": [
    "logfile = \"example_logs/example.darshan\"\n",
    "# obtain a report object containing all data for the input log\n",
    "report = darshan.DarshanReport(logfile, read_all=True)\n",
    "# for reference, print all attributes associated with the report object\n",
    "dir(report)"
   ]
  },
  {
   "cell_type": "code",
   "execution_count": 3,
   "id": "634efe0c",
   "metadata": {},
   "outputs": [
    {
     "data": {
      "text/plain": [
       "{'POSIX': <darshan.report.DarshanRecordCollection object at 0x7fde0b416c10>,\n",
       " 'MPI-IO': <darshan.report.DarshanRecordCollection object at 0x7fde0ccf63d0>,\n",
       " 'STDIO': <darshan.report.DarshanRecordCollection object at 0x7fde0ccf66d0>,\n",
       " 'LUSTRE': <darshan.report.DarshanRecordCollection object at 0x7fde0ccf6820>}"
      ]
     },
     "execution_count": 3,
     "metadata": {},
     "output_type": "execute_result"
    }
   ],
   "source": [
    "report.records"
   ]
  },
  {
   "cell_type": "code",
   "execution_count": 4,
   "id": "c46d71a3",
   "metadata": {},
   "outputs": [
    {
     "name": "stdout",
     "output_type": "stream",
     "text": [
      "Filename:       example_logs/example.darshan\n",
      "Executable:     /global/project/projectdirs/m888/glock/tokio-abc-results/bin.edison/vpicio_uni /scratch2/scratchdirs/glock/tokioabc-s.4478544/vpicio/vpicio.hdf5 32\n",
      "Times:          2017-03-20 03:07:47 to 2017-03-20 03:09:43\n",
      "Run time:       117.0000 (s)\n",
      "Processes:      2048\n",
      "JobID:          4478544\n",
      "UID:            69615\n",
      "Modules in Log: ['POSIX', 'MPI-IO', 'LUSTRE', 'STDIO']\n",
      "Loaded Records: {'POSIX': 1, 'MPI-IO': 1, 'STDIO': 129, 'LUSTRE': 1}\n",
      "Name Records:   4\n",
      "Darshan/Hints:  {'lib_ver': '3.1.3', 'h': 'romio_no_indep_rw=true;cb_nodes=4'}\n",
      "DarshanReport:  id(140591674498928) (tmp)\n"
     ]
    }
   ],
   "source": [
    "# quickly display some info about the log data\n",
    "report.info()"
   ]
  },
  {
   "cell_type": "markdown",
   "id": "c1fb1e2d",
   "metadata": {},
   "source": [
    "#### Convert some record data to a DataFrame"
   ]
  },
  {
   "cell_type": "code",
   "execution_count": 5,
   "id": "1e1059de",
   "metadata": {},
   "outputs": [
    {
     "data": {
      "text/plain": [
       "{'POSIX': {'len': 186,\n",
       "  'ver': 3,\n",
       "  'idx': 1,\n",
       "  'partial_flag': False,\n",
       "  'num_records': 1},\n",
       " 'MPI-IO': {'len': 154,\n",
       "  'ver': 2,\n",
       "  'idx': 2,\n",
       "  'partial_flag': False,\n",
       "  'num_records': 1},\n",
       " 'LUSTRE': {'len': 87,\n",
       "  'ver': 1,\n",
       "  'idx': 8,\n",
       "  'partial_flag': False,\n",
       "  'num_records': 1},\n",
       " 'STDIO': {'len': 3234,\n",
       "  'ver': 1,\n",
       "  'idx': 9,\n",
       "  'partial_flag': False,\n",
       "  'num_records': 129}}"
      ]
     },
     "execution_count": 5,
     "metadata": {},
     "output_type": "execute_result"
    }
   ],
   "source": [
    "# the log may contain data from multiple modules\n",
    "report.modules"
   ]
  },
  {
   "cell_type": "code",
   "execution_count": 6,
   "id": "27d88766",
   "metadata": {},
   "outputs": [
    {
     "name": "stdout",
     "output_type": "stream",
     "text": [
      "{'counters':    rank                   id  POSIX_OPENS  POSIX_FILENOS  POSIX_DUPS  \\\n",
      "0    -1  6301063301082038805         2049             -1          -1   \n",
      "\n",
      "   POSIX_READS  POSIX_WRITES  POSIX_SEEKS  POSIX_STATS  POSIX_MMAPS  ...  \\\n",
      "0            0         16402        16404            0            0  ...   \n",
      "\n",
      "   POSIX_ACCESS3_ACCESS  POSIX_ACCESS4_ACCESS  POSIX_ACCESS1_COUNT  \\\n",
      "0                   544                   328                16384   \n",
      "\n",
      "   POSIX_ACCESS2_COUNT  POSIX_ACCESS3_COUNT  POSIX_ACCESS4_COUNT  \\\n",
      "0                    8                    2                    2   \n",
      "\n",
      "   POSIX_FASTEST_RANK  POSIX_FASTEST_RANK_BYTES  POSIX_SLOWEST_RANK  \\\n",
      "0                 597                1073741824                1312   \n",
      "\n",
      "   POSIX_SLOWEST_RANK_BYTES  \n",
      "0                1073741824  \n",
      "\n",
      "[1 rows x 71 columns], 'fcounters':    rank                   id  POSIX_F_OPEN_START_TIMESTAMP  \\\n",
      "0    -1  6301063301082038805                      3.919141   \n",
      "\n",
      "   POSIX_F_READ_START_TIMESTAMP  POSIX_F_WRITE_START_TIMESTAMP  \\\n",
      "0                           0.0                       3.940064   \n",
      "\n",
      "   POSIX_F_CLOSE_START_TIMESTAMP  POSIX_F_OPEN_END_TIMESTAMP  \\\n",
      "0                       3.927094                     3.93658   \n",
      "\n",
      "   POSIX_F_READ_END_TIMESTAMP  POSIX_F_WRITE_END_TIMESTAMP  \\\n",
      "0                         0.0                   115.078166   \n",
      "\n",
      "   POSIX_F_CLOSE_END_TIMESTAMP  POSIX_F_READ_TIME  POSIX_F_WRITE_TIME  \\\n",
      "0                   115.770358                0.0       100397.600422   \n",
      "\n",
      "   POSIX_F_META_TIME  POSIX_F_MAX_READ_TIME  POSIX_F_MAX_WRITE_TIME  \\\n",
      "0          11.300842                    0.0               17.940946   \n",
      "\n",
      "   POSIX_F_FASTEST_RANK_TIME  POSIX_F_SLOWEST_RANK_TIME  \\\n",
      "0                    20.4361                   85.47495   \n",
      "\n",
      "   POSIX_F_VARIANCE_RANK_TIME  POSIX_F_VARIANCE_RANK_BYTES  \n",
      "0                         0.0                          0.0  }\n"
     ]
    }
   ],
   "source": [
    "# we can extract data for a specific module (e.g., POSIX)\n",
    "# in DataFrame format using the 'records' attribute and\n",
    "# the 'to_df()' method\n",
    "# NOTE: the returned type here is actually a dictionary, with\n",
    "#       2 separate DataFrames: 'counters' (for integer record data)\n",
    "#       and 'fcounters' (for floating point record data)\n",
    "posix_recs = report.records['POSIX'].to_df()\n",
    "print(posix_recs)"
   ]
  },
  {
   "cell_type": "markdown",
   "id": "90b2c2fe",
   "metadata": {},
   "source": [
    "#### Reproduce a job summary \"operation counts\" figure"
   ]
  },
  {
   "cell_type": "code",
   "execution_count": 7,
   "id": "5484b720",
   "metadata": {},
   "outputs": [
    {
     "ename": "TypeError",
     "evalue": "'DarshanReport' object is not subscriptable",
     "output_type": "error",
     "traceback": [
      "\u001b[0;31m---------------------------------------------------------------------------\u001b[0m",
      "\u001b[0;31mTypeError\u001b[0m                                 Traceback (most recent call last)",
      "\u001b[0;32m/var/folders/2v/w7p2schn28lghkn75xm2g8d00000gn/T/ipykernel_42780/3775996570.py\u001b[0m in \u001b[0;36m<module>\u001b[0;34m\u001b[0m\n\u001b[1;32m      5\u001b[0m \u001b[0;31m# this plotting routine expects some input about what data to plot\u001b[0m\u001b[0;34m\u001b[0m\u001b[0;34m\u001b[0m\u001b[0m\n\u001b[1;32m      6\u001b[0m \u001b[0;31m# (in this case, a report object and a module name)\u001b[0m\u001b[0;34m\u001b[0m\u001b[0;34m\u001b[0m\u001b[0m\n\u001b[0;32m----> 7\u001b[0;31m \u001b[0mplot_opcounts\u001b[0m\u001b[0;34m(\u001b[0m\u001b[0mreport\u001b[0m\u001b[0;34m,\u001b[0m \u001b[0;34m\"POSIX\"\u001b[0m\u001b[0;34m)\u001b[0m\u001b[0;34m\u001b[0m\u001b[0;34m\u001b[0m\u001b[0m\n\u001b[0m",
      "\u001b[0;32m~/opt/anaconda3/lib/python3.9/site-packages/darshan/experimental/plots/plot_opcounts.py\u001b[0m in \u001b[0;36mplot_opcounts\u001b[0;34m(record, mod, ax)\u001b[0m\n\u001b[1;32m    169\u001b[0m         \u001b[0mfig\u001b[0m \u001b[0;34m=\u001b[0m \u001b[0;32mNone\u001b[0m\u001b[0;34m\u001b[0m\u001b[0;34m\u001b[0m\u001b[0m\n\u001b[1;32m    170\u001b[0m \u001b[0;34m\u001b[0m\u001b[0m\n\u001b[0;32m--> 171\u001b[0;31m     \u001b[0mlabels\u001b[0m\u001b[0;34m,\u001b[0m \u001b[0mcounts\u001b[0m \u001b[0;34m=\u001b[0m \u001b[0mgather_count_data\u001b[0m\u001b[0;34m(\u001b[0m\u001b[0mrecord\u001b[0m\u001b[0;34m=\u001b[0m\u001b[0mrecord\u001b[0m\u001b[0;34m,\u001b[0m \u001b[0mmod\u001b[0m\u001b[0;34m=\u001b[0m\u001b[0mmod\u001b[0m\u001b[0;34m)\u001b[0m\u001b[0;34m\u001b[0m\u001b[0;34m\u001b[0m\u001b[0m\n\u001b[0m\u001b[1;32m    172\u001b[0m \u001b[0;34m\u001b[0m\u001b[0m\n\u001b[1;32m    173\u001b[0m     \u001b[0mx\u001b[0m \u001b[0;34m=\u001b[0m \u001b[0mnp\u001b[0m\u001b[0;34m.\u001b[0m\u001b[0marange\u001b[0m\u001b[0;34m(\u001b[0m\u001b[0mlen\u001b[0m\u001b[0;34m(\u001b[0m\u001b[0mlabels\u001b[0m\u001b[0;34m)\u001b[0m\u001b[0;34m)\u001b[0m  \u001b[0;31m# the label locations\u001b[0m\u001b[0;34m\u001b[0m\u001b[0;34m\u001b[0m\u001b[0m\n",
      "\u001b[0;32m~/opt/anaconda3/lib/python3.9/site-packages/darshan/experimental/plots/plot_opcounts.py\u001b[0m in \u001b[0;36mgather_count_data\u001b[0;34m(record, mod)\u001b[0m\n\u001b[1;32m     29\u001b[0m     \u001b[0;32mif\u001b[0m \u001b[0mmod\u001b[0m \u001b[0;32min\u001b[0m \u001b[0;34m[\u001b[0m\u001b[0;34m'H5F'\u001b[0m\u001b[0;34m,\u001b[0m \u001b[0;34m'H5D'\u001b[0m\u001b[0;34m,\u001b[0m \u001b[0;34m'PNETCDF_FILE'\u001b[0m\u001b[0;34m,\u001b[0m \u001b[0;34m'PNETCDF_VAR'\u001b[0m\u001b[0;34m]\u001b[0m\u001b[0;34m:\u001b[0m\u001b[0;34m\u001b[0m\u001b[0;34m\u001b[0m\u001b[0m\n\u001b[1;32m     30\u001b[0m         \u001b[0;32mraise\u001b[0m \u001b[0mValueError\u001b[0m\u001b[0;34m(\u001b[0m\u001b[0;34mf\"Error: plot_opcounts not supported for module {mod}\"\u001b[0m\u001b[0;34m)\u001b[0m\u001b[0;34m\u001b[0m\u001b[0;34m\u001b[0m\u001b[0m\n\u001b[0;32m---> 31\u001b[0;31m     \u001b[0mmod_data\u001b[0m \u001b[0;34m=\u001b[0m \u001b[0mrecord\u001b[0m\u001b[0;34m[\u001b[0m\u001b[0;34m'counters'\u001b[0m\u001b[0;34m]\u001b[0m\u001b[0;34m\u001b[0m\u001b[0;34m\u001b[0m\u001b[0m\n\u001b[0m\u001b[1;32m     32\u001b[0m     \u001b[0;31m# Gather POSIX\u001b[0m\u001b[0;34m\u001b[0m\u001b[0;34m\u001b[0m\u001b[0m\n\u001b[1;32m     33\u001b[0m     \u001b[0;32mif\u001b[0m \u001b[0mmod\u001b[0m \u001b[0;34m==\u001b[0m \u001b[0;34m'POSIX'\u001b[0m\u001b[0;34m:\u001b[0m\u001b[0;34m\u001b[0m\u001b[0;34m\u001b[0m\u001b[0m\n",
      "\u001b[0;31mTypeError\u001b[0m: 'DarshanReport' object is not subscriptable"
     ]
    },
    {
     "data": {
      "image/png": "[encoded data removed]",
      "text/plain": [
       "<Figure size 432x288 with 1 Axes>"
      ]
     },
     "metadata": {
      "needs_background": "light"
     },
     "output_type": "display_data"
    }
   ],
   "source": [
    "# import routine for plotting op counts and enable experimental mode\n",
    "from darshan.experimental.plots import plot_opcounts\n",
    "darshan.enable_experimental()\n",
    "\n",
    "# this plotting routine expects some input about what data to plot\n",
    "# (in this case, a report object and a module name)\n",
    "plot_opcounts(report, \"POSIX\")"
   ]
  },
  {
   "cell_type": "markdown",
   "id": "42f600fd",
   "metadata": {},
   "source": [
    " As you can see above from the `plot_opcounts()` signature, it takes a single report object as input. Internally, this plotting routine has logic to combine all of the records in the report object to plot total number of operations across all file records.\n",
    " \n",
    " Since a report object corresponds to a single Darshan log, we can't use this function to plot\n",
    " data from multiple Darshan logs."
   ]
  },
  {
   "cell_type": "markdown",
   "id": "7e9b0b38",
   "metadata": {},
   "source": [
    "#### Darshan accumulator API"
   ]
  },
  {
   "cell_type": "markdown",
   "id": "035551f0",
   "metadata": {},
   "source": [
    "PyDarshan includes an \"accumulator\" API, which allows multiple records (perhaps coming from different log files) to be aggregated into a single \"summary\" record."
   ]
  },
  {
   "cell_type": "markdown",
   "id": "12f2adfd",
   "metadata": {},
   "source": [
    "To resolve the plotting issue mentioned above, one option would be to update the plotting routine to take a single record as input (rather than a report object). We can ultimately use the \"summary\" record generated by the accumulator interface above as input to handle the use case where we want to plot data from multiple log files."
   ]
  },
  {
   "cell_type": "code",
   "execution_count": 8,
   "id": "28515908",
   "metadata": {
    "scrolled": true
   },
   "outputs": [
    {
     "name": "stdout",
     "output_type": "stream",
     "text": [
      "                    id  rank  POSIX_OPENS  POSIX_FILENOS  POSIX_DUPS  \\\n",
      "0  6301063301082038805    -1         2049             -1          -1   \n",
      "\n",
      "   POSIX_READS  POSIX_WRITES  POSIX_SEEKS  POSIX_STATS  POSIX_MMAPS  ...  \\\n",
      "0            0         16402        16404            0            0  ...   \n",
      "\n",
      "   POSIX_ACCESS3_ACCESS  POSIX_ACCESS4_ACCESS  POSIX_ACCESS1_COUNT  \\\n",
      "0                   544                   328                16384   \n",
      "\n",
      "   POSIX_ACCESS2_COUNT  POSIX_ACCESS3_COUNT  POSIX_ACCESS4_COUNT  \\\n",
      "0                    8                    2                    2   \n",
      "\n",
      "   POSIX_FASTEST_RANK  POSIX_FASTEST_RANK_BYTES  POSIX_SLOWEST_RANK  \\\n",
      "0                 597                1073741824                1312   \n",
      "\n",
      "   POSIX_SLOWEST_RANK_BYTES  \n",
      "0                1073741824  \n",
      "\n",
      "[1 rows x 71 columns]\n",
      "\n",
      "\n",
      "\n"
     ]
    }
   ],
   "source": [
    "from darshan.backend.cffi_backend import accumulate_records\n",
    "# accumulate all records in posix_recs, and then print out the \"summary\" record\n",
    "acc = accumulate_records(posix_recs, \"POSIX\", report.metadata['job']['nprocs'])\n",
    "# print(acc)\n",
    "# print(type(acc))\n",
    "# print(type(acc.summary_record))\n",
    "# print(acc.summary_record, end='\\n\\n\\n\\n')\n",
    "print(acc.summary_record['counters'], end='\\n\\n\\n\\n')\n",
    "# print(acc.summary_record['counters'][\"POSIX_OPENS\"], end='\\n\\n\\n\\n')\n",
    "# printint(dir(acc.summary_record))\n",
    "# print(acc.summary_record.summary)"
   ]
  },
  {
   "cell_type": "markdown",
   "id": "fd3c32dd",
   "metadata": {},
   "source": [
    "### <span style=\"color:red\">First Step</span>\n",
    "\n",
    "Our first step is to modify the plotting code `plot_opcounts()` (in file darshan/experimental/plots/plot_opcounts.py) to take a single record as input rather than a report object. Ultimately, we should be able to pass in the summary record from above and get an identical plot to the one generated previously in this notebook (i.e., based on the old code)."
   ]
  },
  {
   "cell_type": "code",
   "execution_count": 9,
   "id": "341c1545",
   "metadata": {},
   "outputs": [],
   "source": [
    "# print(dir(acc))\n",
    "# print(dir(acc.summary_record))\n",
    "# print(\"acc: \", acc, end=\"\\n\\n\\n\\n\")\n",
    "# print(\"acc.summary_record: \", acc.summary_record, end=\"\\n\\n\\n\\n\")\n",
    "# print(\"acc.count: \", acc.count, end=\"\\n\\n\\n\\n\")\n",
    "# print(\"acc.derived_metrics: \", acc.derived_metrics, end=\"\\n\\n\\n\\n\")\n",
    "# print(\"acc.index: \", acc.index, end=\"\\n\\n\\n\\n\")\n",
    "# print(\"acc.summary_record['counters']: \", acc.summary_record['counters'], end=\"\\n\\n\\n\\n\")\n",
    "# print(\"acc.summary_record['counters']['POSIX_OPENS']: \", acc.summary_record['counters'][\"POSIX_OPENS\"], end=\"\\n\\n\")\n",
    "# print(\"acc.summary_record['counters']['POSIX_OPENS'][0]: \", acc.summary_record['counters'][\"POSIX_OPENS\"][0])"
   ]
  },
  {
   "cell_type": "code",
   "execution_count": 10,
   "id": "3ac2ed27",
   "metadata": {
    "scrolled": false
   },
   "outputs": [
    {
     "data": {
      "image/png": "[encoded data removed]",
      "text/plain": [
       "<Figure size 432x288 with 1 Axes>"
      ]
     },
     "execution_count": 10,
     "metadata": {},
     "output_type": "execute_result"
    }
   ],
   "source": [
    "# Test for plot_opcounts POSIX\n",
    "from darshan.experimental.plots import plot_opcounts\n",
    "darshan.enable_experimental()\n",
    "plot_opcounts(acc.summary_record, \"POSIX\")"
   ]
  },
  {
   "cell_type": "code",
   "execution_count": 11,
   "id": "e004f112",
   "metadata": {},
   "outputs": [
    {
     "name": "stdout",
     "output_type": "stream",
     "text": [
      "0\n"
     ]
    },
    {
     "data": {
      "image/png": "[encoded data removed]",
      "text/plain": [
       "<Figure size 432x288 with 1 Axes>"
      ]
     },
     "execution_count": 11,
     "metadata": {},
     "output_type": "execute_result"
    }
   ],
   "source": [
    "# Test for plot_opcounts MPI-IO\n",
    "from darshan.experimental.plots import plot_opcounts\n",
    "posix_recs = report.records['MPI-IO'].to_df()\n",
    "acc_MPIIO = accumulate_records(posix_recs, \"MPI-IO\", report.metadata['job']['nprocs'])\n",
    "print(acc_MPIIO.summary_record['counters'][\"MPIIO_INDEP_READS\"][0])\n",
    "darshan.enable_experimental()\n",
    "plot_opcounts(acc_MPIIO.summary_record, \"MPI-IO\")"
   ]
  },
  {
   "cell_type": "code",
   "execution_count": 12,
   "id": "591eb3ed",
   "metadata": {},
   "outputs": [
    {
     "name": "stdout",
     "output_type": "stream",
     "text": [
      "0\n"
     ]
    },
    {
     "data": {
      "image/png": "[encoded data removed]",
      "text/plain": [
       "<Figure size 432x288 with 1 Axes>"
      ]
     },
     "execution_count": 12,
     "metadata": {},
     "output_type": "execute_result"
    }
   ],
   "source": [
    "# Test for plot_opcounts STDIO\n",
    "from darshan.experimental.plots import plot_opcounts\n",
    "posix_recs = report.records['STDIO'].to_df()\n",
    "acc_STDIO = accumulate_records(posix_recs, \"STDIO\", report.metadata['job']['nprocs'])\n",
    "print(acc_STDIO.summary_record['counters'][\"STDIO_READS\"][0])\n",
    "darshan.enable_experimental()\n",
    "plot_opcounts(acc_STDIO.summary_record, \"STDIO\")"
   ]
  },
  {
   "cell_type": "code",
   "execution_count": 13,
   "id": "6881d549",
   "metadata": {},
   "outputs": [
    {
     "ename": "ValueError",
     "evalue": "Error: plot_opcounts not supported for module H5F",
     "output_type": "error",
     "traceback": [
      "\u001b[0;31m---------------------------------------------------------------------------\u001b[0m",
      "\u001b[0;31mValueError\u001b[0m                                Traceback (most recent call last)",
      "\u001b[0;32m/var/folders/2v/w7p2schn28lghkn75xm2g8d00000gn/T/ipykernel_42780/1299849547.py\u001b[0m in \u001b[0;36m<module>\u001b[0;34m\u001b[0m\n\u001b[1;32m      4\u001b[0m \u001b[0;31m# print(acc_H5F.summary_record['counters'][\"H5F_FLUSHES\"][0])\u001b[0m\u001b[0;34m\u001b[0m\u001b[0;34m\u001b[0m\u001b[0m\n\u001b[1;32m      5\u001b[0m \u001b[0;31m# darshan.enable_experimental()\u001b[0m\u001b[0;34m\u001b[0m\u001b[0;34m\u001b[0m\u001b[0m\n\u001b[0;32m----> 6\u001b[0;31m \u001b[0mplot_opcounts\u001b[0m\u001b[0;34m(\u001b[0m\u001b[0mreport\u001b[0m\u001b[0;34m,\u001b[0m \u001b[0;34m\"H5F\"\u001b[0m\u001b[0;34m)\u001b[0m\u001b[0;34m\u001b[0m\u001b[0;34m\u001b[0m\u001b[0m\n\u001b[0m",
      "\u001b[0;32m~/opt/anaconda3/lib/python3.9/site-packages/darshan/experimental/plots/plot_opcounts.py\u001b[0m in \u001b[0;36mplot_opcounts\u001b[0;34m(record, mod, ax)\u001b[0m\n\u001b[1;32m    169\u001b[0m         \u001b[0mfig\u001b[0m \u001b[0;34m=\u001b[0m \u001b[0;32mNone\u001b[0m\u001b[0;34m\u001b[0m\u001b[0;34m\u001b[0m\u001b[0m\n\u001b[1;32m    170\u001b[0m \u001b[0;34m\u001b[0m\u001b[0m\n\u001b[0;32m--> 171\u001b[0;31m     \u001b[0mlabels\u001b[0m\u001b[0;34m,\u001b[0m \u001b[0mcounts\u001b[0m \u001b[0;34m=\u001b[0m \u001b[0mgather_count_data\u001b[0m\u001b[0;34m(\u001b[0m\u001b[0mrecord\u001b[0m\u001b[0;34m=\u001b[0m\u001b[0mrecord\u001b[0m\u001b[0;34m,\u001b[0m \u001b[0mmod\u001b[0m\u001b[0;34m=\u001b[0m\u001b[0mmod\u001b[0m\u001b[0;34m)\u001b[0m\u001b[0;34m\u001b[0m\u001b[0;34m\u001b[0m\u001b[0m\n\u001b[0m\u001b[1;32m    172\u001b[0m \u001b[0;34m\u001b[0m\u001b[0m\n\u001b[1;32m    173\u001b[0m     \u001b[0mx\u001b[0m \u001b[0;34m=\u001b[0m \u001b[0mnp\u001b[0m\u001b[0;34m.\u001b[0m\u001b[0marange\u001b[0m\u001b[0;34m(\u001b[0m\u001b[0mlen\u001b[0m\u001b[0;34m(\u001b[0m\u001b[0mlabels\u001b[0m\u001b[0;34m)\u001b[0m\u001b[0;34m)\u001b[0m  \u001b[0;31m# the label locations\u001b[0m\u001b[0;34m\u001b[0m\u001b[0;34m\u001b[0m\u001b[0m\n",
      "\u001b[0;32m~/opt/anaconda3/lib/python3.9/site-packages/darshan/experimental/plots/plot_opcounts.py\u001b[0m in \u001b[0;36mgather_count_data\u001b[0;34m(record, mod)\u001b[0m\n\u001b[1;32m     28\u001b[0m     \"\"\"\n\u001b[1;32m     29\u001b[0m     \u001b[0;32mif\u001b[0m \u001b[0mmod\u001b[0m \u001b[0;32min\u001b[0m \u001b[0;34m[\u001b[0m\u001b[0;34m'H5F'\u001b[0m\u001b[0;34m,\u001b[0m \u001b[0;34m'H5D'\u001b[0m\u001b[0;34m,\u001b[0m \u001b[0;34m'PNETCDF_FILE'\u001b[0m\u001b[0;34m,\u001b[0m \u001b[0;34m'PNETCDF_VAR'\u001b[0m\u001b[0;34m]\u001b[0m\u001b[0;34m:\u001b[0m\u001b[0;34m\u001b[0m\u001b[0;34m\u001b[0m\u001b[0m\n\u001b[0;32m---> 30\u001b[0;31m         \u001b[0;32mraise\u001b[0m \u001b[0mValueError\u001b[0m\u001b[0;34m(\u001b[0m\u001b[0;34mf\"Error: plot_opcounts not supported for module {mod}\"\u001b[0m\u001b[0;34m)\u001b[0m\u001b[0;34m\u001b[0m\u001b[0;34m\u001b[0m\u001b[0m\n\u001b[0m\u001b[1;32m     31\u001b[0m     \u001b[0mmod_data\u001b[0m \u001b[0;34m=\u001b[0m \u001b[0mrecord\u001b[0m\u001b[0;34m[\u001b[0m\u001b[0;34m'counters'\u001b[0m\u001b[0;34m]\u001b[0m\u001b[0;34m\u001b[0m\u001b[0;34m\u001b[0m\u001b[0m\n\u001b[1;32m     32\u001b[0m     \u001b[0;31m# Gather POSIX\u001b[0m\u001b[0;34m\u001b[0m\u001b[0;34m\u001b[0m\u001b[0m\n",
      "\u001b[0;31mValueError\u001b[0m: Error: plot_opcounts not supported for module H5F"
     ]
    },
    {
     "data": {
      "image/png": "[encoded data removed]",
      "text/plain": [
       "<Figure size 432x288 with 1 Axes>"
      ]
     },
     "metadata": {
      "needs_background": "light"
     },
     "output_type": "display_data"
    }
   ],
   "source": [
    "#Test for plot_opcounts H5F\n",
    "from darshan.experimental.plots import plot_opcounts\n",
    "# acc_H5F = accumulate_records(posix_recs, \"H5F\", report.metadata['job']['nprocs'])\n",
    "# print(acc_H5F.summary_record['counters'][\"H5F_FLUSHES\"][0])\n",
    "# darshan.enable_experimental()\n",
    "plot_opcounts(report, \"H5F\")"
   ]
  },
  {
   "cell_type": "code",
   "execution_count": 14,
   "id": "862437d8",
   "metadata": {},
   "outputs": [
    {
     "ename": "ValueError",
     "evalue": "Error: plot_opcounts not supported for module PNETCDF_FILE",
     "output_type": "error",
     "traceback": [
      "\u001b[0;31m---------------------------------------------------------------------------\u001b[0m",
      "\u001b[0;31mValueError\u001b[0m                                Traceback (most recent call last)",
      "\u001b[0;32m/var/folders/2v/w7p2schn28lghkn75xm2g8d00000gn/T/ipykernel_42780/651463565.py\u001b[0m in \u001b[0;36m<module>\u001b[0;34m\u001b[0m\n\u001b[1;32m      4\u001b[0m \u001b[0;31m# print(acc_PNETCDF_FILE.summary_record['counters'][\"PNETCDF_FILE_SYNCS\"][0])\u001b[0m\u001b[0;34m\u001b[0m\u001b[0;34m\u001b[0m\u001b[0m\n\u001b[1;32m      5\u001b[0m \u001b[0;31m# darshan.enable_experimental()\u001b[0m\u001b[0;34m\u001b[0m\u001b[0;34m\u001b[0m\u001b[0m\n\u001b[0;32m----> 6\u001b[0;31m \u001b[0mplot_opcounts\u001b[0m\u001b[0;34m(\u001b[0m\u001b[0mreport\u001b[0m\u001b[0;34m,\u001b[0m \u001b[0;34m\"PNETCDF_FILE\"\u001b[0m\u001b[0;34m)\u001b[0m\u001b[0;34m\u001b[0m\u001b[0;34m\u001b[0m\u001b[0m\n\u001b[0m",
      "\u001b[0;32m~/opt/anaconda3/lib/python3.9/site-packages/darshan/experimental/plots/plot_opcounts.py\u001b[0m in \u001b[0;36mplot_opcounts\u001b[0;34m(record, mod, ax)\u001b[0m\n\u001b[1;32m    169\u001b[0m         \u001b[0mfig\u001b[0m \u001b[0;34m=\u001b[0m \u001b[0;32mNone\u001b[0m\u001b[0;34m\u001b[0m\u001b[0;34m\u001b[0m\u001b[0m\n\u001b[1;32m    170\u001b[0m \u001b[0;34m\u001b[0m\u001b[0m\n\u001b[0;32m--> 171\u001b[0;31m     \u001b[0mlabels\u001b[0m\u001b[0;34m,\u001b[0m \u001b[0mcounts\u001b[0m \u001b[0;34m=\u001b[0m \u001b[0mgather_count_data\u001b[0m\u001b[0;34m(\u001b[0m\u001b[0mrecord\u001b[0m\u001b[0;34m=\u001b[0m\u001b[0mrecord\u001b[0m\u001b[0;34m,\u001b[0m \u001b[0mmod\u001b[0m\u001b[0;34m=\u001b[0m\u001b[0mmod\u001b[0m\u001b[0;34m)\u001b[0m\u001b[0;34m\u001b[0m\u001b[0;34m\u001b[0m\u001b[0m\n\u001b[0m\u001b[1;32m    172\u001b[0m \u001b[0;34m\u001b[0m\u001b[0m\n\u001b[1;32m    173\u001b[0m     \u001b[0mx\u001b[0m \u001b[0;34m=\u001b[0m \u001b[0mnp\u001b[0m\u001b[0;34m.\u001b[0m\u001b[0marange\u001b[0m\u001b[0;34m(\u001b[0m\u001b[0mlen\u001b[0m\u001b[0;34m(\u001b[0m\u001b[0mlabels\u001b[0m\u001b[0;34m)\u001b[0m\u001b[0;34m)\u001b[0m  \u001b[0;31m# the label locations\u001b[0m\u001b[0;34m\u001b[0m\u001b[0;34m\u001b[0m\u001b[0m\n",
      "\u001b[0;32m~/opt/anaconda3/lib/python3.9/site-packages/darshan/experimental/plots/plot_opcounts.py\u001b[0m in \u001b[0;36mgather_count_data\u001b[0;34m(record, mod)\u001b[0m\n\u001b[1;32m     28\u001b[0m     \"\"\"\n\u001b[1;32m     29\u001b[0m     \u001b[0;32mif\u001b[0m \u001b[0mmod\u001b[0m \u001b[0;32min\u001b[0m \u001b[0;34m[\u001b[0m\u001b[0;34m'H5F'\u001b[0m\u001b[0;34m,\u001b[0m \u001b[0;34m'H5D'\u001b[0m\u001b[0;34m,\u001b[0m \u001b[0;34m'PNETCDF_FILE'\u001b[0m\u001b[0;34m,\u001b[0m \u001b[0;34m'PNETCDF_VAR'\u001b[0m\u001b[0;34m]\u001b[0m\u001b[0;34m:\u001b[0m\u001b[0;34m\u001b[0m\u001b[0;34m\u001b[0m\u001b[0m\n\u001b[0;32m---> 30\u001b[0;31m         \u001b[0;32mraise\u001b[0m \u001b[0mValueError\u001b[0m\u001b[0;34m(\u001b[0m\u001b[0;34mf\"Error: plot_opcounts not supported for module {mod}\"\u001b[0m\u001b[0;34m)\u001b[0m\u001b[0;34m\u001b[0m\u001b[0;34m\u001b[0m\u001b[0m\n\u001b[0m\u001b[1;32m     31\u001b[0m     \u001b[0mmod_data\u001b[0m \u001b[0;34m=\u001b[0m \u001b[0mrecord\u001b[0m\u001b[0;34m[\u001b[0m\u001b[0;34m'counters'\u001b[0m\u001b[0;34m]\u001b[0m\u001b[0;34m\u001b[0m\u001b[0;34m\u001b[0m\u001b[0m\n\u001b[1;32m     32\u001b[0m     \u001b[0;31m# Gather POSIX\u001b[0m\u001b[0;34m\u001b[0m\u001b[0;34m\u001b[0m\u001b[0m\n",
      "\u001b[0;31mValueError\u001b[0m: Error: plot_opcounts not supported for module PNETCDF_FILE"
     ]
    },
    {
     "data": {
      "image/png": "[encoded data removed]",
      "text/plain": [
       "<Figure size 432x288 with 1 Axes>"
      ]
     },
     "metadata": {
      "needs_background": "light"
     },
     "output_type": "display_data"
    }
   ],
   "source": [
    "#Test for plot_opcounts PNETCDF_FILE\n",
    "from darshan.experimental.plots import plot_opcounts\n",
    "# acc_PNETCDF_FILE = accumulate_records(posix_recs, \"PNETCDF_FILE\", report.metadata['job']['nprocs'])\n",
    "# print(acc_PNETCDF_FILE.summary_record['counters'][\"PNETCDF_FILE_SYNCS\"][0])\n",
    "# darshan.enable_experimental()\n",
    "plot_opcounts(report, \"PNETCDF_FILE\")"
   ]
  },
  {
   "cell_type": "code",
   "execution_count": 15,
   "id": "dece9aaa",
   "metadata": {
    "scrolled": true
   },
   "outputs": [
    {
     "data": {
      "image/png": "[encoded data removed]",
      "text/plain": [
       "<Figure size 432x288 with 1 Axes>"
      ]
     },
     "execution_count": 15,
     "metadata": {},
     "output_type": "execute_result"
    }
   ],
   "source": [
    "# Test for plot_posix_access_pattern POSIX\n",
    "from darshan.experimental.plots import plot_posix_access_pattern\n",
    "darshan.enable_experimental()\n",
    "# print(acc)\n",
    "plot_posix_access_pattern(acc.summary_record)"
   ]
  },
  {
   "cell_type": "markdown",
   "id": "e0872862",
   "metadata": {},
   "source": [
    "### <span style=\"color:red\">Second Step</span>\n",
    "Modify the plotting code plot_access_histogram( ) (in file darshan/experimental/plots/plot_access_histogram.py) to take a single record as input rather than a report object. "
   ]
  },
  {
   "cell_type": "code",
   "execution_count": 16,
   "id": "f7b9d300",
   "metadata": {},
   "outputs": [
    {
     "data": {
      "image/png": "[encoded data removed]",
      "text/plain": [
       "<Figure size 432x288 with 1 Axes>"
      ]
     },
     "execution_count": 16,
     "metadata": {},
     "output_type": "execute_result"
    }
   ],
   "source": [
    "## Extract data for a specific module (POSIX or MPI-IO)\n",
    "# in DataFrame format using the 'records' attribute and\n",
    "# the 'to_df()' method\n",
    "# NOTE: the returned type here is actually a dictionary, with\n",
    "#       2 separate DataFrames: 'counters' (for integer record data)\n",
    "#       and 'fcounters' (for floating point record data)\n",
    "from darshan.experimental.plots import plot_access_histogram\n",
    "posix_recs = report.records['MPI-IO'].to_df()\n",
    "## Aggregated multiple log files into a single \"summary\" record.\n",
    "acc_MPIIO = accumulate_records(posix_recs, \"MPI-IO\", report.metadata['job']['nprocs'])\n",
    "## Plotting\n",
    "plot_access_histogram(acc_MPIIO.summary_record, \"MPI-IO\")"
   ]
  },
  {
   "cell_type": "code",
   "execution_count": 17,
   "id": "3409d42c",
   "metadata": {},
   "outputs": [
    {
     "data": {
      "image/png": "[encoded data removed]",
      "text/plain": [
       "<Figure size 432x288 with 1 Axes>"
      ]
     },
     "execution_count": 17,
     "metadata": {},
     "output_type": "execute_result"
    }
   ],
   "source": [
    "from darshan.experimental.plots import plot_access_histogram\n",
    "posix_recs = report.records['POSIX'].to_df()\n",
    "acc_MPIIO = accumulate_records(posix_recs, \"POSIX\", report.metadata['job']['nprocs'])\n",
    "plot_access_histogram(acc_MPIIO.summary_record, \"POSIX\")"
   ]
  },
  {
   "cell_type": "code",
   "execution_count": 18,
   "id": "cb5566d5",
   "metadata": {},
   "outputs": [
    {
     "name": "stdout",
     "output_type": "stream",
     "text": [
      "{'version': 1, 'metadata': {'job': {'uid': 69615, 'start_time_sec': 1490000867, 'start_time_nsec': 0, 'end_time_sec': 1490000983, 'end_time_nsec': 0, 'nprocs': 2048, 'jobid': 4478544, 'run_time': 117.0, 'log_ver': '3.10', 'metadata': {'lib_ver': '3.1.3', 'h': 'romio_no_indep_rw=true;cb_nodes=4'}}, 'exe': '/global/project/projectdirs/m888/glock/tokio-abc-results/bin.edison/vpicio_uni /scratch2/scratchdirs/glock/tokioabc-s.4478544/vpicio/vpicio.hdf5 32'}, 'records': {'POSIX': <darshan.report.DarshanRecordCollection object at 0x7fde0b416c10>, 'MPI-IO': <darshan.report.DarshanRecordCollection object at 0x7fde0ccf63d0>, 'STDIO': <darshan.report.DarshanRecordCollection object at 0x7fde0ccf66d0>, 'LUSTRE': <darshan.report.DarshanRecordCollection object at 0x7fde0ccf6820>}, 'summary': {}, 'modules': {'POSIX': {'len': 186, 'ver': 3, 'idx': 1, 'partial_flag': False, 'num_records': 1}, 'MPI-IO': {'len': 154, 'ver': 2, 'idx': 2, 'partial_flag': False, 'num_records': 1}, 'LUSTRE': {'len': 87, 'ver': 1, 'idx': 8, 'partial_flag': False, 'num_records': 1}, 'STDIO': {'len': 3234, 'ver': 1, 'idx': 9, 'partial_flag': False, 'num_records': 129}}, 'counters': {'POSIX': {'counters': ['POSIX_OPENS', 'POSIX_FILENOS', 'POSIX_DUPS', 'POSIX_READS', 'POSIX_WRITES', 'POSIX_SEEKS', 'POSIX_STATS', 'POSIX_MMAPS', 'POSIX_FSYNCS', 'POSIX_FDSYNCS', 'POSIX_RENAME_SOURCES', 'POSIX_RENAME_TARGETS', 'POSIX_RENAMED_FROM', 'POSIX_MODE', 'POSIX_BYTES_READ', 'POSIX_BYTES_WRITTEN', 'POSIX_MAX_BYTE_READ', 'POSIX_MAX_BYTE_WRITTEN', 'POSIX_CONSEC_READS', 'POSIX_CONSEC_WRITES', 'POSIX_SEQ_READS', 'POSIX_SEQ_WRITES', 'POSIX_RW_SWITCHES', 'POSIX_MEM_NOT_ALIGNED', 'POSIX_MEM_ALIGNMENT', 'POSIX_FILE_NOT_ALIGNED', 'POSIX_FILE_ALIGNMENT', 'POSIX_MAX_READ_TIME_SIZE', 'POSIX_MAX_WRITE_TIME_SIZE', 'POSIX_SIZE_READ_0_100', 'POSIX_SIZE_READ_100_1K', 'POSIX_SIZE_READ_1K_10K', 'POSIX_SIZE_READ_10K_100K', 'POSIX_SIZE_READ_100K_1M', 'POSIX_SIZE_READ_1M_4M', 'POSIX_SIZE_READ_4M_10M', 'POSIX_SIZE_READ_10M_100M', 'POSIX_SIZE_READ_100M_1G', 'POSIX_SIZE_READ_1G_PLUS', 'POSIX_SIZE_WRITE_0_100', 'POSIX_SIZE_WRITE_100_1K', 'POSIX_SIZE_WRITE_1K_10K', 'POSIX_SIZE_WRITE_10K_100K', 'POSIX_SIZE_WRITE_100K_1M', 'POSIX_SIZE_WRITE_1M_4M', 'POSIX_SIZE_WRITE_4M_10M', 'POSIX_SIZE_WRITE_10M_100M', 'POSIX_SIZE_WRITE_100M_1G', 'POSIX_SIZE_WRITE_1G_PLUS', 'POSIX_STRIDE1_STRIDE', 'POSIX_STRIDE2_STRIDE', 'POSIX_STRIDE3_STRIDE', 'POSIX_STRIDE4_STRIDE', 'POSIX_STRIDE1_COUNT', 'POSIX_STRIDE2_COUNT', 'POSIX_STRIDE3_COUNT', 'POSIX_STRIDE4_COUNT', 'POSIX_ACCESS1_ACCESS', 'POSIX_ACCESS2_ACCESS', 'POSIX_ACCESS3_ACCESS', 'POSIX_ACCESS4_ACCESS', 'POSIX_ACCESS1_COUNT', 'POSIX_ACCESS2_COUNT', 'POSIX_ACCESS3_COUNT', 'POSIX_ACCESS4_COUNT', 'POSIX_FASTEST_RANK', 'POSIX_FASTEST_RANK_BYTES', 'POSIX_SLOWEST_RANK', 'POSIX_SLOWEST_RANK_BYTES'], 'fcounters': ['POSIX_F_OPEN_START_TIMESTAMP', 'POSIX_F_READ_START_TIMESTAMP', 'POSIX_F_WRITE_START_TIMESTAMP', 'POSIX_F_CLOSE_START_TIMESTAMP', 'POSIX_F_OPEN_END_TIMESTAMP', 'POSIX_F_READ_END_TIMESTAMP', 'POSIX_F_WRITE_END_TIMESTAMP', 'POSIX_F_CLOSE_END_TIMESTAMP', 'POSIX_F_READ_TIME', 'POSIX_F_WRITE_TIME', 'POSIX_F_META_TIME', 'POSIX_F_MAX_READ_TIME', 'POSIX_F_MAX_WRITE_TIME', 'POSIX_F_FASTEST_RANK_TIME', 'POSIX_F_SLOWEST_RANK_TIME', 'POSIX_F_VARIANCE_RANK_TIME', 'POSIX_F_VARIANCE_RANK_BYTES']}, 'MPI-IO': {'counters': ['MPIIO_INDEP_OPENS', 'MPIIO_COLL_OPENS', 'MPIIO_INDEP_READS', 'MPIIO_INDEP_WRITES', 'MPIIO_COLL_READS', 'MPIIO_COLL_WRITES', 'MPIIO_SPLIT_READS', 'MPIIO_SPLIT_WRITES', 'MPIIO_NB_READS', 'MPIIO_NB_WRITES', 'MPIIO_SYNCS', 'MPIIO_HINTS', 'MPIIO_VIEWS', 'MPIIO_MODE', 'MPIIO_BYTES_READ', 'MPIIO_BYTES_WRITTEN', 'MPIIO_RW_SWITCHES', 'MPIIO_MAX_READ_TIME_SIZE', 'MPIIO_MAX_WRITE_TIME_SIZE', 'MPIIO_SIZE_READ_AGG_0_100', 'MPIIO_SIZE_READ_AGG_100_1K', 'MPIIO_SIZE_READ_AGG_1K_10K', 'MPIIO_SIZE_READ_AGG_10K_100K', 'MPIIO_SIZE_READ_AGG_100K_1M', 'MPIIO_SIZE_READ_AGG_1M_4M', 'MPIIO_SIZE_READ_AGG_4M_10M', 'MPIIO_SIZE_READ_AGG_10M_100M', 'MPIIO_SIZE_READ_AGG_100M_1G', 'MPIIO_SIZE_READ_AGG_1G_PLUS', 'MPIIO_SIZE_WRITE_AGG_0_100', 'MPIIO_SIZE_WRITE_AGG_100_1K', 'MPIIO_SIZE_WRITE_AGG_1K_10K', 'MPIIO_SIZE_WRITE_AGG_10K_100K', 'MPIIO_SIZE_WRITE_AGG_100K_1M', 'MPIIO_SIZE_WRITE_AGG_1M_4M', 'MPIIO_SIZE_WRITE_AGG_4M_10M', 'MPIIO_SIZE_WRITE_AGG_10M_100M', 'MPIIO_SIZE_WRITE_AGG_100M_1G', 'MPIIO_SIZE_WRITE_AGG_1G_PLUS', 'MPIIO_ACCESS1_ACCESS', 'MPIIO_ACCESS2_ACCESS', 'MPIIO_ACCESS3_ACCESS', 'MPIIO_ACCESS4_ACCESS', 'MPIIO_ACCESS1_COUNT', 'MPIIO_ACCESS2_COUNT', 'MPIIO_ACCESS3_COUNT', 'MPIIO_ACCESS4_COUNT', 'MPIIO_FASTEST_RANK', 'MPIIO_FASTEST_RANK_BYTES', 'MPIIO_SLOWEST_RANK', 'MPIIO_SLOWEST_RANK_BYTES'], 'fcounters': ['MPIIO_F_OPEN_START_TIMESTAMP', 'MPIIO_F_READ_START_TIMESTAMP', 'MPIIO_F_WRITE_START_TIMESTAMP', 'MPIIO_F_CLOSE_START_TIMESTAMP', 'MPIIO_F_OPEN_END_TIMESTAMP', 'MPIIO_F_READ_END_TIMESTAMP', 'MPIIO_F_WRITE_END_TIMESTAMP', 'MPIIO_F_CLOSE_END_TIMESTAMP', 'MPIIO_F_READ_TIME', 'MPIIO_F_WRITE_TIME', 'MPIIO_F_META_TIME', 'MPIIO_F_MAX_READ_TIME', 'MPIIO_F_MAX_WRITE_TIME', 'MPIIO_F_FASTEST_RANK_TIME', 'MPIIO_F_SLOWEST_RANK_TIME', 'MPIIO_F_VARIANCE_RANK_TIME', 'MPIIO_F_VARIANCE_RANK_BYTES']}, 'STDIO': {'counters': ['STDIO_OPENS', 'STDIO_FDOPENS', 'STDIO_READS', 'STDIO_WRITES', 'STDIO_SEEKS', 'STDIO_FLUSHES', 'STDIO_BYTES_WRITTEN', 'STDIO_BYTES_READ', 'STDIO_MAX_BYTE_READ', 'STDIO_MAX_BYTE_WRITTEN', 'STDIO_FASTEST_RANK', 'STDIO_FASTEST_RANK_BYTES', 'STDIO_SLOWEST_RANK', 'STDIO_SLOWEST_RANK_BYTES'], 'fcounters': ['STDIO_F_META_TIME', 'STDIO_F_WRITE_TIME', 'STDIO_F_READ_TIME', 'STDIO_F_OPEN_START_TIMESTAMP', 'STDIO_F_CLOSE_START_TIMESTAMP', 'STDIO_F_WRITE_START_TIMESTAMP', 'STDIO_F_READ_START_TIMESTAMP', 'STDIO_F_OPEN_END_TIMESTAMP', 'STDIO_F_CLOSE_END_TIMESTAMP', 'STDIO_F_WRITE_END_TIMESTAMP', 'STDIO_F_READ_END_TIMESTAMP', 'STDIO_F_FASTEST_RANK_TIME', 'STDIO_F_SLOWEST_RANK_TIME', 'STDIO_F_VARIANCE_RANK_TIME', 'STDIO_F_VARIANCE_RANK_BYTES']}, 'LUSTRE': {'counters': ['LUSTRE_OSTS', 'LUSTRE_MDTS', 'LUSTRE_STRIPE_OFFSET', 'LUSTRE_STRIPE_SIZE', 'LUSTRE_STRIPE_WIDTH']}}, 'name_records': {14734109647742566553: '<STDIN>', 15920181672442173319: '<STDOUT>', 7238257241479193519: '<STDERR>', 6301063301082038805: '/scratch2/scratchdirs/glock/tokioabc-s.4478544/vpicio/vpicio.hdf5'}, 'mounts': [('/.shared/base/default/etc/dat.conf', 'dvs'), ('/usr/lib64/libibverbs.so.1.0.0', 'dvs'), ('/usr/lib64/librdmacm.so.1.0.0', 'dvs'), ('/usr/lib64/libibumad.so.3.0.2', 'dvs'), ('/usr/lib64/libibgni.so.1.0.0', 'dvs'), ('/global/cscratch1', 'lustre'), ('/global/projectb', 'dvs'), ('/global/projecta', 'dvs'), ('/usr/sbin/ibstat', 'dvs'), ('/global/project', 'dvs'), ('/global/common', 'dvs'), ('/global/syscom', 'dvs'), ('/global/dna', 'dvs'), ('/global/u2', 'dvs'), ('/opt/slurm', 'dvs'), ('/global/u1', 'dvs'), ('/scratch1', 'lustre'), ('/scratch3', 'lustre'), ('/scratch2', 'lustre'), ('/etc', 'dvs'), ('/', 'rootfs'), ('/', 'dvs')]}\n"
     ]
    }
   ],
   "source": [
    "# print(report.mod_agg_iohist, end=\"\\n\\n\")\n",
    "# print(report.records, end=\"\\n\\n\")\n",
    "# print(report.summary, end=\"\\n\\n\")\n",
    "# print(dir(report.summary), end=\"\\n\\n\")\n",
    "# print(dir(report.mod_agg_iohist), end=\"\\n\\n\")\n",
    "print(report.data)"
   ]
  },
  {
   "cell_type": "code",
   "execution_count": 19,
   "id": "bfeefac6",
   "metadata": {},
   "outputs": [
    {
     "name": "stdout",
     "output_type": "stream",
     "text": [
      "READ:\n",
      "0\n",
      "WRITE:\n",
      "4\n"
     ]
    }
   ],
   "source": [
    "from darshan.experimental.plots import plot_access_histogram\n",
    "posix_recs = report.records['MPI-IO'].to_df()\n",
    "acc_MPIIO = accumulate_records(posix_recs, \"MPI-IO\", report.metadata['job']['nprocs'])\n",
    "print(\"READ:\")\n",
    "print(acc_MPIIO.summary_record['counters']['MPIIO_SIZE_READ_AGG_0_100'][0])\n",
    "# print(acc_MPIIO.summary_record['counters']['MPIIO_SIZE_READ_AGG_100_1K'][0])\n",
    "# print(acc_MPIIO.summary_record['counters']['MPIIO_SIZE_READ_AGG_1K_10K'][0])\n",
    "# print(acc_MPIIO.summary_record['counters']['MPIIO_SIZE_READ_AGG_10K_100K'][0])\n",
    "# print(acc_MPIIO.summary_record['counters']['MPIIO_SIZE_READ_AGG_100K_1M'][0])\n",
    "# print(acc_MPIIO.summary_record['counters']['MPIIO_SIZE_READ_AGG_1M_4M'][0])\n",
    "# print(acc_MPIIO.summary_record['counters']['MPIIO_SIZE_READ_AGG_4M_10M'][0])\n",
    "# print(acc_MPIIO.summary_record['counters']['MPIIO_SIZE_READ_AGG_10M_100M'][0])\n",
    "# print(acc_MPIIO.summary_record['counters']['MPIIO_SIZE_READ_AGG_100M_1G'][0])\n",
    "# print(acc_MPIIO.summary_record['counters']['MPIIO_SIZE_READ_AGG_1G_PLUS'][0])                             \n",
    "print(\"WRITE:\")                                      \n",
    "print(acc_MPIIO.summary_record['counters']['MPIIO_SIZE_WRITE_AGG_0_100'][0])\n",
    "# print(acc_MPIIO.summary_record['counters']['MPIIO_SIZE_WRITE_AGG_100_1K'][0])\n",
    "# print(acc_MPIIO.summary_record['counters']['MPIIO_SIZE_WRITE_AGG_1K_10K'][0])\n",
    "# print(acc_MPIIO.summary_record['counters']['MPIIO_SIZE_WRITE_AGG_10K_100K'][0])\n",
    "# print(acc_MPIIO.summary_record['counters']['MPIIO_SIZE_WRITE_AGG_100K_1M'][0])\n",
    "# print(acc_MPIIO.summary_record['counters']['MPIIO_SIZE_WRITE_AGG_1M_4M'][0])\n",
    "# print(acc_MPIIO.summary_record['counters']['MPIIO_SIZE_WRITE_AGG_4M_10M'][0])\n",
    "# print(acc_MPIIO.summary_record['counters']['MPIIO_SIZE_WRITE_AGG_10M_100M'][0])\n",
    "# print(acc_MPIIO.summary_record['counters']['MPIIO_SIZE_WRITE_AGG_100M_1G'][0])\n",
    "# print(acc_MPIIO.summary_record['counters']['MPIIO_SIZE_WRITE_AGG_1G_PLUS'][0])                                                                              "
   ]
  },
  {
   "cell_type": "markdown",
   "id": "f652d5bf",
   "metadata": {},
   "source": [
    "### <span style=\"color:red\">Third Step</span>\n",
    "Modify the plotting code plot_common_access_table( ) (in file darshan/experimental/plots/plot_common_access_table.py) to take a single record as input rather than a report object.\n"
   ]
  },
  {
   "cell_type": "code",
   "execution_count": 20,
   "id": "4e33d65b",
   "metadata": {},
   "outputs": [
    {
     "name": "stdout",
     "output_type": "stream",
     "text": [
      "134217728\n",
      "16384\n",
      "<class 'dict'>\n"
     ]
    }
   ],
   "source": [
    "from darshan.experimental.plots import plot_common_access_table\n",
    "posix_recs = report.records['MPI-IO'].to_df()\n",
    "acc_MPIIO = accumulate_records(posix_recs, \"MPI-IO\", report.metadata['job']['nprocs'])\n",
    "print(acc_MPIIO.summary_record['counters']['MPIIO_ACCESS1_ACCESS'][0])\n",
    "print(acc_MPIIO.summary_record['counters']['MPIIO_ACCESS1_COUNT'][0])\n",
    "print(type(acc_MPIIO.summary_record))"
   ]
  },
  {
   "cell_type": "code",
   "execution_count": 23,
   "id": "e5feae5d",
   "metadata": {},
   "outputs": [
    {
     "ename": "TypeError",
     "evalue": "'module' object is not callable",
     "output_type": "error",
     "traceback": [
      "\u001b[0;31m---------------------------------------------------------------------------\u001b[0m",
      "\u001b[0;31mTypeError\u001b[0m                                 Traceback (most recent call last)",
      "\u001b[0;32m/var/folders/2v/w7p2schn28lghkn75xm2g8d00000gn/T/ipykernel_42780/234895852.py\u001b[0m in \u001b[0;36m<module>\u001b[0;34m\u001b[0m\n\u001b[1;32m     10\u001b[0m \u001b[0macc_MPIIO\u001b[0m \u001b[0;34m=\u001b[0m \u001b[0maccumulate_records\u001b[0m\u001b[0;34m(\u001b[0m\u001b[0mposix_recs\u001b[0m\u001b[0;34m,\u001b[0m \u001b[0;34m\"MPI-IO\"\u001b[0m\u001b[0;34m,\u001b[0m \u001b[0mreport\u001b[0m\u001b[0;34m.\u001b[0m\u001b[0mmetadata\u001b[0m\u001b[0;34m[\u001b[0m\u001b[0;34m'job'\u001b[0m\u001b[0;34m]\u001b[0m\u001b[0;34m[\u001b[0m\u001b[0;34m'nprocs'\u001b[0m\u001b[0;34m]\u001b[0m\u001b[0;34m)\u001b[0m\u001b[0;34m\u001b[0m\u001b[0;34m\u001b[0m\u001b[0m\n\u001b[1;32m     11\u001b[0m \u001b[0;31m## Plotting\u001b[0m\u001b[0;34m\u001b[0m\u001b[0;34m\u001b[0m\u001b[0m\n\u001b[0;32m---> 12\u001b[0;31m \u001b[0mplot_common_access_table\u001b[0m\u001b[0;34m(\u001b[0m\u001b[0macc_MPIIO\u001b[0m\u001b[0;34m.\u001b[0m\u001b[0msummary_record\u001b[0m\u001b[0;34m,\u001b[0m \u001b[0;34m\"MPI-IO\"\u001b[0m\u001b[0;34m)\u001b[0m\u001b[0;34m\u001b[0m\u001b[0;34m\u001b[0m\u001b[0m\n\u001b[0m",
      "\u001b[0;31mTypeError\u001b[0m: 'module' object is not callable"
     ]
    }
   ],
   "source": [
    "## Extract data for a specific module (POSIX or MPI-IO)\n",
    "# in DataFrame format using the 'records' attribute and\n",
    "# the 'to_df()' method\n",
    "# NOTE: the returned type here is actually a dictionary, with\n",
    "#       2 separate DataFrames: 'counters' (for integer record data)\n",
    "#       and 'fcounters' (for floating point record data)\n",
    "from darshan.experimental.plots import plot_common_access_table\n",
    "posix_recs = report.records['MPI-IO'].to_df()\n",
    "## Aggregated multiple log files into a single \"summary\" record.\n",
    "acc_MPIIO = accumulate_records(posix_recs, \"MPI-IO\", report.metadata['job']['nprocs'])\n",
    "## Plotting\n",
    "plot_common_access_table(acc_MPIIO.summary_record, \"MPI-IO\")"
   ]
  },
  {
   "cell_type": "code",
   "execution_count": 24,
   "id": "8aa13558",
   "metadata": {},
   "outputs": [
    {
     "ename": "TypeError",
     "evalue": "'module' object is not callable",
     "output_type": "error",
     "traceback": [
      "\u001b[0;31m---------------------------------------------------------------------------\u001b[0m",
      "\u001b[0;31mTypeError\u001b[0m                                 Traceback (most recent call last)",
      "\u001b[0;32m/var/folders/2v/w7p2schn28lghkn75xm2g8d00000gn/T/ipykernel_42780/1553793853.py\u001b[0m in \u001b[0;36m<module>\u001b[0;34m\u001b[0m\n\u001b[1;32m      4\u001b[0m \u001b[0macc_MPIIO\u001b[0m \u001b[0;34m=\u001b[0m \u001b[0maccumulate_records\u001b[0m\u001b[0;34m(\u001b[0m\u001b[0mposix_recs\u001b[0m\u001b[0;34m,\u001b[0m \u001b[0;34m\"POSIX\"\u001b[0m\u001b[0;34m,\u001b[0m \u001b[0mreport\u001b[0m\u001b[0;34m.\u001b[0m\u001b[0mmetadata\u001b[0m\u001b[0;34m[\u001b[0m\u001b[0;34m'job'\u001b[0m\u001b[0;34m]\u001b[0m\u001b[0;34m[\u001b[0m\u001b[0;34m'nprocs'\u001b[0m\u001b[0;34m]\u001b[0m\u001b[0;34m)\u001b[0m\u001b[0;34m\u001b[0m\u001b[0;34m\u001b[0m\u001b[0m\n\u001b[1;32m      5\u001b[0m \u001b[0;31m## Plotting\u001b[0m\u001b[0;34m\u001b[0m\u001b[0;34m\u001b[0m\u001b[0m\n\u001b[0;32m----> 6\u001b[0;31m \u001b[0mplot_common_access_table\u001b[0m\u001b[0;34m(\u001b[0m\u001b[0macc_MPIIO\u001b[0m\u001b[0;34m.\u001b[0m\u001b[0msummary_record\u001b[0m\u001b[0;34m,\u001b[0m \u001b[0;34m\"POSIX\"\u001b[0m\u001b[0;34m)\u001b[0m\u001b[0;34m\u001b[0m\u001b[0;34m\u001b[0m\u001b[0m\n\u001b[0m",
      "\u001b[0;31mTypeError\u001b[0m: 'module' object is not callable"
     ]
    }
   ],
   "source": [
    "from darshan.experimental.plots import plot_common_access_table\n",
    "posix_recs = report.records['POSIX'].to_df()\n",
    "## Aggregated multiple log files into a single \"summary\" record.\n",
    "acc_MPIIO = accumulate_records(posix_recs, \"POSIX\", report.metadata['job']['nprocs'])\n",
    "## Plotting\n",
    "plot_common_access_table(acc_MPIIO.summary_record, \"POSIX\")"
   ]
  },
  {
   "cell_type": "code",
   "execution_count": null,
   "id": "0d45b369",
   "metadata": {},
   "outputs": [],
   "source": []
  }
 ],
 "metadata": {
  "kernelspec": {
   "display_name": "Python 3 (ipykernel)",
   "language": "python",
   "name": "python3"
  },
  "language_info": {
   "codemirror_mode": {
    "name": "ipython",
    "version": 3
   },
   "file_extension": ".py",
   "mimetype": "text/x-python",
   "name": "python",
   "nbconvert_exporter": "python",
   "pygments_lexer": "ipython3",
   "version": "3.9.7"
  },
  "toc": {
   "base_numbering": 1,
   "nav_menu": {},
   "number_sections": true,
   "sideBar": true,
   "skip_h1_title": false,
   "title_cell": "Table of Contents",
   "title_sidebar": "Contents",
   "toc_cell": false,
   "toc_position": {
    "height": "calc(100% - 180px)",
    "left": "10px",
    "top": "150px",
    "width": "165px"
   },
   "toc_section_display": true,
   "toc_window_display": true
  }
 },
 "nbformat": 4,
 "nbformat_minor": 5
}
