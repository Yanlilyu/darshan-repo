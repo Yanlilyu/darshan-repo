{
 "cells": [
  {
   "cell_type": "code",
   "execution_count": 1,
   "id": "acc17ec9",
   "metadata": {},
   "outputs": [],
   "source": [
    "import darshan"
   ]
  },
  {
   "cell_type": "markdown",
   "id": "9dc378c3",
   "metadata": {},
   "source": [
    "#### Open Darshan log file and read in data"
   ]
  },
  {
   "cell_type": "code",
   "execution_count": 2,
   "id": "0449a558",
   "metadata": {},
   "outputs": [
    {
     "data": {
      "text/plain": [
       "['__add__',\n",
       " '__class__',\n",
       " '__deepcopy__',\n",
       " '__del__',\n",
       " '__delattr__',\n",
       " '__dict__',\n",
       " '__dir__',\n",
       " '__doc__',\n",
       " '__enter__',\n",
       " '__eq__',\n",
       " '__exit__',\n",
       " '__format__',\n",
       " '__ge__',\n",
       " '__getattribute__',\n",
       " '__gt__',\n",
       " '__hash__',\n",
       " '__init__',\n",
       " '__init_subclass__',\n",
       " '__le__',\n",
       " '__lt__',\n",
       " '__module__',\n",
       " '__ne__',\n",
       " '__new__',\n",
       " '__reduce__',\n",
       " '__reduce_ex__',\n",
       " '__repr__',\n",
       " '__setattr__',\n",
       " '__sizeof__',\n",
       " '__str__',\n",
       " '__subclasshook__',\n",
       " '__weakref__',\n",
       " '_cleanup',\n",
       " '_counters',\n",
       " '_heatmaps',\n",
       " '_metadata',\n",
       " '_modules',\n",
       " '_mounts',\n",
       " 'automatic_summary',\n",
       " 'converted_records',\n",
       " 'counters',\n",
       " 'data',\n",
       " 'data_revision',\n",
       " 'dtype',\n",
       " 'end_time',\n",
       " 'filename',\n",
       " 'heatmaps',\n",
       " 'info',\n",
       " 'log',\n",
       " 'lookup_name_records',\n",
       " 'metadata',\n",
       " 'mod_read_all_apmpi_records',\n",
       " 'mod_read_all_apxc_records',\n",
       " 'mod_read_all_dxt_records',\n",
       " 'mod_read_all_lustre_records',\n",
       " 'mod_read_all_records',\n",
       " 'mod_records',\n",
       " 'modules',\n",
       " 'mounts',\n",
       " 'name_records',\n",
       " 'open',\n",
       " 'provenance_enabled',\n",
       " 'provenance_graph',\n",
       " 'provenance_reports',\n",
       " 'read_all',\n",
       " 'read_all_dxt_records',\n",
       " 'read_all_generic_records',\n",
       " 'read_all_heatmap_records',\n",
       " 'read_metadata',\n",
       " 'rebase_timestamps',\n",
       " 'records',\n",
       " 'start_time',\n",
       " 'summary',\n",
       " 'summary_revision',\n",
       " 'timebase',\n",
       " 'to_dict',\n",
       " 'to_json',\n",
       " 'update_name_records']"
      ]
     },
     "execution_count": 2,
     "metadata": {},
     "output_type": "execute_result"
    }
   ],
   "source": [
    "logfile = \"example_logs/example.darshan\"\n",
    "# obtain a report object containing all data for the input log\n",
    "report = darshan.DarshanReport(logfile, read_all=True)\n",
    "# for reference, print all attributes associated with the report object\n",
    "dir(report)"
   ]
  },
  {
   "cell_type": "code",
   "execution_count": 3,
   "id": "c46d71a3",
   "metadata": {},
   "outputs": [
    {
     "name": "stdout",
     "output_type": "stream",
     "text": [
      "Filename:       example_logs/example.darshan\n",
      "Executable:     /global/project/projectdirs/m888/glock/tokio-abc-results/bin.edison/vpicio_uni /scratch2/scratchdirs/glock/tokioabc-s.4478544/vpicio/vpicio.hdf5 32\n",
      "Times:          2017-03-20 04:07:47 to 2017-03-20 04:09:43\n",
      "Run time:       117.0000 (s)\n",
      "Processes:      2048\n",
      "JobID:          4478544\n",
      "UID:            69615\n",
      "Modules in Log: ['POSIX', 'MPI-IO', 'LUSTRE', 'STDIO']\n",
      "Loaded Records: {'POSIX': 1, 'MPI-IO': 1, 'STDIO': 129, 'LUSTRE': 1}\n",
      "Name Records:   4\n",
      "Darshan/Hints:  {'lib_ver': '3.1.3', 'h': 'romio_no_indep_rw=true;cb_nodes=4'}\n",
      "DarshanReport:  id(140222677424160) (tmp)\n"
     ]
    }
   ],
   "source": [
    "# quickly display some info about the log data\n",
    "report.info()"
   ]
  },
  {
   "cell_type": "markdown",
   "id": "c1fb1e2d",
   "metadata": {},
   "source": [
    "#### Convert some record data to a DataFrame"
   ]
  },
  {
   "cell_type": "code",
   "execution_count": 4,
   "id": "1e1059de",
   "metadata": {},
   "outputs": [
    {
     "data": {
      "text/plain": [
       "{'POSIX': {'len': 186,\n",
       "  'ver': 3,\n",
       "  'idx': 1,\n",
       "  'partial_flag': False,\n",
       "  'num_records': 1},\n",
       " 'MPI-IO': {'len': 154,\n",
       "  'ver': 2,\n",
       "  'idx': 2,\n",
       "  'partial_flag': False,\n",
       "  'num_records': 1},\n",
       " 'LUSTRE': {'len': 87,\n",
       "  'ver': 1,\n",
       "  'idx': 8,\n",
       "  'partial_flag': False,\n",
       "  'num_records': 1},\n",
       " 'STDIO': {'len': 3234,\n",
       "  'ver': 1,\n",
       "  'idx': 9,\n",
       "  'partial_flag': False,\n",
       "  'num_records': 129}}"
      ]
     },
     "execution_count": 4,
     "metadata": {},
     "output_type": "execute_result"
    }
   ],
   "source": [
    "# the log may contain data from multiple modules\n",
    "report.modules"
   ]
  },
  {
   "cell_type": "code",
   "execution_count": 5,
   "id": "27d88766",
   "metadata": {},
   "outputs": [
    {
     "name": "stdout",
     "output_type": "stream",
     "text": [
      "{'counters':    rank                   id  POSIX_OPENS  POSIX_FILENOS  POSIX_DUPS  \\\n",
      "0    -1  6301063301082038805         2049             -1          -1   \n",
      "\n",
      "   POSIX_READS  POSIX_WRITES  POSIX_SEEKS  POSIX_STATS  POSIX_MMAPS  ...  \\\n",
      "0            0         16402        16404            0            0  ...   \n",
      "\n",
      "   POSIX_ACCESS3_ACCESS  POSIX_ACCESS4_ACCESS  POSIX_ACCESS1_COUNT  \\\n",
      "0                   544                   328                16384   \n",
      "\n",
      "   POSIX_ACCESS2_COUNT  POSIX_ACCESS3_COUNT  POSIX_ACCESS4_COUNT  \\\n",
      "0                    8                    2                    2   \n",
      "\n",
      "   POSIX_FASTEST_RANK  POSIX_FASTEST_RANK_BYTES  POSIX_SLOWEST_RANK  \\\n",
      "0                 597                1073741824                1312   \n",
      "\n",
      "   POSIX_SLOWEST_RANK_BYTES  \n",
      "0                1073741824  \n",
      "\n",
      "[1 rows x 71 columns], 'fcounters':    rank                   id  POSIX_F_OPEN_START_TIMESTAMP  \\\n",
      "0    -1  6301063301082038805                      3.919141   \n",
      "\n",
      "   POSIX_F_READ_START_TIMESTAMP  POSIX_F_WRITE_START_TIMESTAMP  \\\n",
      "0                           0.0                       3.940064   \n",
      "\n",
      "   POSIX_F_CLOSE_START_TIMESTAMP  POSIX_F_OPEN_END_TIMESTAMP  \\\n",
      "0                       3.927094                     3.93658   \n",
      "\n",
      "   POSIX_F_READ_END_TIMESTAMP  POSIX_F_WRITE_END_TIMESTAMP  \\\n",
      "0                         0.0                   115.078166   \n",
      "\n",
      "   POSIX_F_CLOSE_END_TIMESTAMP  POSIX_F_READ_TIME  POSIX_F_WRITE_TIME  \\\n",
      "0                   115.770358                0.0       100397.600422   \n",
      "\n",
      "   POSIX_F_META_TIME  POSIX_F_MAX_READ_TIME  POSIX_F_MAX_WRITE_TIME  \\\n",
      "0          11.300842                    0.0               17.940946   \n",
      "\n",
      "   POSIX_F_FASTEST_RANK_TIME  POSIX_F_SLOWEST_RANK_TIME  \\\n",
      "0                    20.4361                   85.47495   \n",
      "\n",
      "   POSIX_F_VARIANCE_RANK_TIME  POSIX_F_VARIANCE_RANK_BYTES  \n",
      "0                         0.0                          0.0  }\n"
     ]
    }
   ],
   "source": [
    "# we can extract data for a specific module (e.g., POSIX)\n",
    "# in DataFrame format using the 'records' attribute and\n",
    "# the 'to_df()' method\n",
    "# NOTE: the returned type here is actually a dictionary, with\n",
    "#       2 separate DataFrames: 'counters' (for integer record data)\n",
    "#       and 'fcounters' (for floating point record data)\n",
    "posix_recs = report.records['POSIX'].to_df()\n",
    "print(posix_recs)"
   ]
  },
  {
   "cell_type": "markdown",
   "id": "90b2c2fe",
   "metadata": {},
   "source": [
    "#### Reproduce a job summary \"operation counts\" figure"
   ]
  },
  {
   "cell_type": "code",
   "execution_count": 6,
   "id": "5484b720",
   "metadata": {},
   "outputs": [
    {
     "ename": "TypeError",
     "evalue": "'DarshanReport' object is not subscriptable",
     "output_type": "error",
     "traceback": [
      "\u001b[0;31m---------------------------------------------------------------------------\u001b[0m",
      "\u001b[0;31mTypeError\u001b[0m                                 Traceback (most recent call last)",
      "\u001b[0;32m/var/folders/2v/w7p2schn28lghkn75xm2g8d00000gn/T/ipykernel_23155/3775996570.py\u001b[0m in \u001b[0;36m<module>\u001b[0;34m\u001b[0m\n\u001b[1;32m      5\u001b[0m \u001b[0;31m# this plotting routine expects some input about what data to plot\u001b[0m\u001b[0;34m\u001b[0m\u001b[0;34m\u001b[0m\u001b[0m\n\u001b[1;32m      6\u001b[0m \u001b[0;31m# (in this case, a report object and a module name)\u001b[0m\u001b[0;34m\u001b[0m\u001b[0;34m\u001b[0m\u001b[0m\n\u001b[0;32m----> 7\u001b[0;31m \u001b[0mplot_opcounts\u001b[0m\u001b[0;34m(\u001b[0m\u001b[0mreport\u001b[0m\u001b[0;34m,\u001b[0m \u001b[0;34m\"POSIX\"\u001b[0m\u001b[0;34m)\u001b[0m\u001b[0;34m\u001b[0m\u001b[0;34m\u001b[0m\u001b[0m\n\u001b[0m",
      "\u001b[0;32m~/opt/anaconda3/lib/python3.9/site-packages/darshan/experimental/plots/plot_opcounts.py\u001b[0m in \u001b[0;36mplot_opcounts\u001b[0;34m(record, mod, ax)\u001b[0m\n\u001b[1;32m    170\u001b[0m         \u001b[0mfig\u001b[0m \u001b[0;34m=\u001b[0m \u001b[0;32mNone\u001b[0m\u001b[0;34m\u001b[0m\u001b[0;34m\u001b[0m\u001b[0m\n\u001b[1;32m    171\u001b[0m \u001b[0;34m\u001b[0m\u001b[0m\n\u001b[0;32m--> 172\u001b[0;31m     \u001b[0mlabels\u001b[0m\u001b[0;34m,\u001b[0m \u001b[0mcounts\u001b[0m \u001b[0;34m=\u001b[0m \u001b[0mgather_count_data\u001b[0m\u001b[0;34m(\u001b[0m\u001b[0mrecord\u001b[0m\u001b[0;34m=\u001b[0m\u001b[0mrecord\u001b[0m\u001b[0;34m,\u001b[0m \u001b[0mmod\u001b[0m\u001b[0;34m=\u001b[0m\u001b[0mmod\u001b[0m\u001b[0;34m)\u001b[0m\u001b[0;34m\u001b[0m\u001b[0;34m\u001b[0m\u001b[0m\n\u001b[0m\u001b[1;32m    173\u001b[0m \u001b[0;34m\u001b[0m\u001b[0m\n\u001b[1;32m    174\u001b[0m     \u001b[0mx\u001b[0m \u001b[0;34m=\u001b[0m \u001b[0mnp\u001b[0m\u001b[0;34m.\u001b[0m\u001b[0marange\u001b[0m\u001b[0;34m(\u001b[0m\u001b[0mlen\u001b[0m\u001b[0;34m(\u001b[0m\u001b[0mlabels\u001b[0m\u001b[0;34m)\u001b[0m\u001b[0;34m)\u001b[0m  \u001b[0;31m# the label locations\u001b[0m\u001b[0;34m\u001b[0m\u001b[0;34m\u001b[0m\u001b[0m\n",
      "\u001b[0;32m~/opt/anaconda3/lib/python3.9/site-packages/darshan/experimental/plots/plot_opcounts.py\u001b[0m in \u001b[0;36mgather_count_data\u001b[0;34m(record, mod)\u001b[0m\n\u001b[1;32m     30\u001b[0m \u001b[0;34m\u001b[0m\u001b[0m\n\u001b[1;32m     31\u001b[0m         \u001b[0;32mraise\u001b[0m \u001b[0mValueError\u001b[0m\u001b[0;34m(\u001b[0m\u001b[0;34mf\"Error: plot_opcounts not supported for module {mod}\"\u001b[0m\u001b[0;34m)\u001b[0m\u001b[0;34m\u001b[0m\u001b[0;34m\u001b[0m\u001b[0m\n\u001b[0;32m---> 32\u001b[0;31m     \u001b[0mmod_data\u001b[0m \u001b[0;34m=\u001b[0m \u001b[0mrecord\u001b[0m\u001b[0;34m[\u001b[0m\u001b[0;34m'counters'\u001b[0m\u001b[0;34m]\u001b[0m\u001b[0;34m\u001b[0m\u001b[0;34m\u001b[0m\u001b[0m\n\u001b[0m\u001b[1;32m     33\u001b[0m     \u001b[0;31m# Gather POSIX\u001b[0m\u001b[0;34m\u001b[0m\u001b[0;34m\u001b[0m\u001b[0m\n\u001b[1;32m     34\u001b[0m     \u001b[0;32mif\u001b[0m \u001b[0mmod\u001b[0m \u001b[0;34m==\u001b[0m \u001b[0;34m'POSIX'\u001b[0m\u001b[0;34m:\u001b[0m\u001b[0;34m\u001b[0m\u001b[0;34m\u001b[0m\u001b[0m\n",
      "\u001b[0;31mTypeError\u001b[0m: 'DarshanReport' object is not subscriptable"
     ]
    },
    {
     "data": {
      "image/png": "[encoded data removed]",
      "text/plain": [
       "<Figure size 432x288 with 1 Axes>"
      ]
     },
     "metadata": {
      "needs_background": "light"
     },
     "output_type": "display_data"
    }
   ],
   "source": [
    "# import routine for plotting op counts and enable experimental mode\n",
    "from darshan.experimental.plots import plot_opcounts\n",
    "darshan.enable_experimental()\n",
    "\n",
    "# this plotting routine expects some input about what data to plot\n",
    "# (in this case, a report object and a module name)\n",
    "plot_opcounts(report, \"POSIX\")"
   ]
  },
  {
   "cell_type": "markdown",
   "id": "42f600fd",
   "metadata": {},
   "source": [
    " As you can see above from the `plot_opcounts()` signature, it takes a single report object as input. Internally, this plotting routine has logic to combine all of the records in the report object to plot total number of operations across all file records.\n",
    " \n",
    " Since a report object corresponds to a single Darshan log, we can't use this function to plot\n",
    " data from multiple Darshan logs."
   ]
  },
  {
   "cell_type": "markdown",
   "id": "7e9b0b38",
   "metadata": {},
   "source": [
    "#### Darshan accumulator API"
   ]
  },
  {
   "cell_type": "markdown",
   "id": "035551f0",
   "metadata": {},
   "source": [
    "PyDarshan includes an \"accumulator\" API, which allows multiple records (perhaps coming from different log files) to be aggregated into a single \"summary\" record."
   ]
  },
  {
   "cell_type": "markdown",
   "id": "12f2adfd",
   "metadata": {},
   "source": [
    "To resolve the plotting issue mentioned above, one option would be to update the plotting routine to take a single record as input (rather than a report object). We can ultimately use the \"summary\" record generated by the accumulator interface above as input to handle the use case where we want to plot data from multiple log files."
   ]
  },
  {
   "cell_type": "code",
   "execution_count": 7,
   "id": "28515908",
   "metadata": {
    "scrolled": true
   },
   "outputs": [
    {
     "name": "stdout",
     "output_type": "stream",
     "text": [
      "                    id  rank  POSIX_OPENS  POSIX_FILENOS  POSIX_DUPS  \\\n",
      "0  6301063301082038805    -1         2049             -1          -1   \n",
      "\n",
      "   POSIX_READS  POSIX_WRITES  POSIX_SEEKS  POSIX_STATS  POSIX_MMAPS  ...  \\\n",
      "0            0         16402        16404            0            0  ...   \n",
      "\n",
      "   POSIX_ACCESS3_ACCESS  POSIX_ACCESS4_ACCESS  POSIX_ACCESS1_COUNT  \\\n",
      "0                   544                   328                16384   \n",
      "\n",
      "   POSIX_ACCESS2_COUNT  POSIX_ACCESS3_COUNT  POSIX_ACCESS4_COUNT  \\\n",
      "0                    8                    2                    2   \n",
      "\n",
      "   POSIX_FASTEST_RANK  POSIX_FASTEST_RANK_BYTES  POSIX_SLOWEST_RANK  \\\n",
      "0                 597                1073741824                1312   \n",
      "\n",
      "   POSIX_SLOWEST_RANK_BYTES  \n",
      "0                1073741824  \n",
      "\n",
      "[1 rows x 71 columns]\n",
      "\n",
      "\n",
      "\n"
     ]
    }
   ],
   "source": [
    "from darshan.backend.cffi_backend import accumulate_records\n",
    "\n",
    "# accumulate all records in posix_recs, and then print out the \"summary\" record\n",
    "acc = accumulate_records(posix_recs, \"POSIX\", report.metadata['job']['nprocs'])\n",
    "# print(type(acc))\n",
    "# print(type(acc.summary_record))\n",
    "# print(acc.summary_record, end='\\n\\n\\n\\n')\n",
    "print(acc.summary_record['counters'], end='\\n\\n\\n\\n')\n",
    "# print(acc.summary_record['counters'][\"POSIX_OPENS\"], end='\\n\\n\\n\\n')\n",
    "# printint(dir(acc.summary_record))\n",
    "# print(acc.summary_record.summary)\n",
    "\n"
   ]
  },
  {
   "cell_type": "markdown",
   "id": "fd3c32dd",
   "metadata": {},
   "source": [
    "### <span style=\"color:red\">First Step</span>\n",
    "\n",
    "Our first step is to modify the plotting code `plot_opcounts()` (in file darshan/experimental/plots/plot_opcounts.py) to take a single record as input rather than a report object. Ultimately, we should be able to pass in the summary record from above and get an identical plot to the one generated previously in this notebook (i.e., based on the old code)."
   ]
  },
  {
   "cell_type": "code",
   "execution_count": 8,
   "id": "9c28b46b",
   "metadata": {},
   "outputs": [
    {
     "name": "stdout",
     "output_type": "stream",
     "text": [
      "['__add__', '__class__', '__class_getitem__', '__contains__', '__delattr__', '__dir__', '__doc__', '__eq__', '__format__', '__ge__', '__getattribute__', '__getitem__', '__getnewargs__', '__gt__', '__hash__', '__init__', '__init_subclass__', '__iter__', '__le__', '__len__', '__lt__', '__module__', '__mul__', '__ne__', '__new__', '__reduce__', '__reduce_ex__', '__repr__', '__rmul__', '__setattr__', '__sizeof__', '__slots__', '__str__', '__subclasshook__', '_asdict', '_field_defaults', '_fields', '_make', '_replace', 'count', 'derived_metrics', 'index', 'summary_record']\n"
     ]
    }
   ],
   "source": [
    "print(dir(acc))"
   ]
  },
  {
   "cell_type": "code",
   "execution_count": 9,
   "id": "341c1545",
   "metadata": {},
   "outputs": [
    {
     "name": "stdout",
     "output_type": "stream",
     "text": [
      "acc:  AccumulatedRecords(derived_metrics=<cdata 'struct darshan_derived_metrics *' owning 512 bytes>, summary_record={'id': 6301063301082038805, 'rank': -1, 'counters':                     id  rank  POSIX_OPENS  POSIX_FILENOS  POSIX_DUPS  \\\n",
      "0  6301063301082038805    -1         2049             -1          -1   \n",
      "\n",
      "   POSIX_READS  POSIX_WRITES  POSIX_SEEKS  POSIX_STATS  POSIX_MMAPS  ...  \\\n",
      "0            0         16402        16404            0            0  ...   \n",
      "\n",
      "   POSIX_ACCESS3_ACCESS  POSIX_ACCESS4_ACCESS  POSIX_ACCESS1_COUNT  \\\n",
      "0                   544                   328                16384   \n",
      "\n",
      "   POSIX_ACCESS2_COUNT  POSIX_ACCESS3_COUNT  POSIX_ACCESS4_COUNT  \\\n",
      "0                    8                    2                    2   \n",
      "\n",
      "   POSIX_FASTEST_RANK  POSIX_FASTEST_RANK_BYTES  POSIX_SLOWEST_RANK  \\\n",
      "0                 597                1073741824                1312   \n",
      "\n",
      "   POSIX_SLOWEST_RANK_BYTES  \n",
      "0                1073741824  \n",
      "\n",
      "[1 rows x 71 columns], 'fcounters':                     id  rank  POSIX_F_OPEN_START_TIMESTAMP  \\\n",
      "0  6301063301082038805  -1.0                      3.919141   \n",
      "\n",
      "   POSIX_F_READ_START_TIMESTAMP  POSIX_F_WRITE_START_TIMESTAMP  \\\n",
      "0                           0.0                       3.940064   \n",
      "\n",
      "   POSIX_F_CLOSE_START_TIMESTAMP  POSIX_F_OPEN_END_TIMESTAMP  \\\n",
      "0                       3.927094                     3.93658   \n",
      "\n",
      "   POSIX_F_READ_END_TIMESTAMP  POSIX_F_WRITE_END_TIMESTAMP  \\\n",
      "0                         0.0                   115.078166   \n",
      "\n",
      "   POSIX_F_CLOSE_END_TIMESTAMP  POSIX_F_READ_TIME  POSIX_F_WRITE_TIME  \\\n",
      "0                   115.770358                0.0       100397.600422   \n",
      "\n",
      "   POSIX_F_META_TIME  POSIX_F_MAX_READ_TIME  POSIX_F_MAX_WRITE_TIME  \\\n",
      "0          11.300842                    0.0               17.940946   \n",
      "\n",
      "   POSIX_F_FASTEST_RANK_TIME  POSIX_F_SLOWEST_RANK_TIME  \\\n",
      "0                    20.4361                   85.47495   \n",
      "\n",
      "   POSIX_F_VARIANCE_RANK_TIME  POSIX_F_VARIANCE_RANK_BYTES  \n",
      "0                         0.0                          0.0  })\n",
      "\n",
      "\n",
      "\n",
      "acc.summary_record:  {'id': 6301063301082038805, 'rank': -1, 'counters':                     id  rank  POSIX_OPENS  POSIX_FILENOS  POSIX_DUPS  \\\n",
      "0  6301063301082038805    -1         2049             -1          -1   \n",
      "\n",
      "   POSIX_READS  POSIX_WRITES  POSIX_SEEKS  POSIX_STATS  POSIX_MMAPS  ...  \\\n",
      "0            0         16402        16404            0            0  ...   \n",
      "\n",
      "   POSIX_ACCESS3_ACCESS  POSIX_ACCESS4_ACCESS  POSIX_ACCESS1_COUNT  \\\n",
      "0                   544                   328                16384   \n",
      "\n",
      "   POSIX_ACCESS2_COUNT  POSIX_ACCESS3_COUNT  POSIX_ACCESS4_COUNT  \\\n",
      "0                    8                    2                    2   \n",
      "\n",
      "   POSIX_FASTEST_RANK  POSIX_FASTEST_RANK_BYTES  POSIX_SLOWEST_RANK  \\\n",
      "0                 597                1073741824                1312   \n",
      "\n",
      "   POSIX_SLOWEST_RANK_BYTES  \n",
      "0                1073741824  \n",
      "\n",
      "[1 rows x 71 columns], 'fcounters':                     id  rank  POSIX_F_OPEN_START_TIMESTAMP  \\\n",
      "0  6301063301082038805  -1.0                      3.919141   \n",
      "\n",
      "   POSIX_F_READ_START_TIMESTAMP  POSIX_F_WRITE_START_TIMESTAMP  \\\n",
      "0                           0.0                       3.940064   \n",
      "\n",
      "   POSIX_F_CLOSE_START_TIMESTAMP  POSIX_F_OPEN_END_TIMESTAMP  \\\n",
      "0                       3.927094                     3.93658   \n",
      "\n",
      "   POSIX_F_READ_END_TIMESTAMP  POSIX_F_WRITE_END_TIMESTAMP  \\\n",
      "0                         0.0                   115.078166   \n",
      "\n",
      "   POSIX_F_CLOSE_END_TIMESTAMP  POSIX_F_READ_TIME  POSIX_F_WRITE_TIME  \\\n",
      "0                   115.770358                0.0       100397.600422   \n",
      "\n",
      "   POSIX_F_META_TIME  POSIX_F_MAX_READ_TIME  POSIX_F_MAX_WRITE_TIME  \\\n",
      "0          11.300842                    0.0               17.940946   \n",
      "\n",
      "   POSIX_F_FASTEST_RANK_TIME  POSIX_F_SLOWEST_RANK_TIME  \\\n",
      "0                    20.4361                   85.47495   \n",
      "\n",
      "   POSIX_F_VARIANCE_RANK_TIME  POSIX_F_VARIANCE_RANK_BYTES  \n",
      "0                         0.0                          0.0  }\n",
      "\n",
      "\n",
      "\n",
      "acc.count:  <built-in method count of AccumulatedRecords object at 0x7f8824939780>\n",
      "\n",
      "\n",
      "\n",
      "acc.derived_metrics:  <cdata 'struct darshan_derived_metrics *' owning 512 bytes>\n",
      "\n",
      "\n",
      "\n",
      "acc.index:  <built-in method index of AccumulatedRecords object at 0x7f8824939780>\n",
      "\n",
      "\n",
      "\n",
      "acc.summary_record['counters']:                      id  rank  POSIX_OPENS  POSIX_FILENOS  POSIX_DUPS  \\\n",
      "0  6301063301082038805    -1         2049             -1          -1   \n",
      "\n",
      "   POSIX_READS  POSIX_WRITES  POSIX_SEEKS  POSIX_STATS  POSIX_MMAPS  ...  \\\n",
      "0            0         16402        16404            0            0  ...   \n",
      "\n",
      "   POSIX_ACCESS3_ACCESS  POSIX_ACCESS4_ACCESS  POSIX_ACCESS1_COUNT  \\\n",
      "0                   544                   328                16384   \n",
      "\n",
      "   POSIX_ACCESS2_COUNT  POSIX_ACCESS3_COUNT  POSIX_ACCESS4_COUNT  \\\n",
      "0                    8                    2                    2   \n",
      "\n",
      "   POSIX_FASTEST_RANK  POSIX_FASTEST_RANK_BYTES  POSIX_SLOWEST_RANK  \\\n",
      "0                 597                1073741824                1312   \n",
      "\n",
      "   POSIX_SLOWEST_RANK_BYTES  \n",
      "0                1073741824  \n",
      "\n",
      "[1 rows x 71 columns]\n",
      "\n",
      "\n",
      "\n",
      "acc.summary_record['counters']['POSIX_OPENS']:  0    2049\n",
      "Name: POSIX_OPENS, dtype: int64\n",
      "\n",
      "acc.summary_record['counters']['POSIX_OPENS'][0]:  2049\n"
     ]
    }
   ],
   "source": [
    "print(\"acc: \", acc, end=\"\\n\\n\\n\\n\")\n",
    "print(\"acc.summary_record: \", acc.summary_record, end=\"\\n\\n\\n\\n\")\n",
    "print(\"acc.count: \", acc.count, end=\"\\n\\n\\n\\n\")\n",
    "print(\"acc.derived_metrics: \", acc.derived_metrics, end=\"\\n\\n\\n\\n\")\n",
    "print(\"acc.index: \", acc.index, end=\"\\n\\n\\n\\n\")\n",
    "print(\"acc.summary_record['counters']: \", acc.summary_record['counters'], end=\"\\n\\n\\n\\n\")\n",
    "print(\"acc.summary_record['counters']['POSIX_OPENS']: \", acc.summary_record['counters'][\"POSIX_OPENS\"], end=\"\\n\\n\")\n",
    "print(\"acc.summary_record['counters']['POSIX_OPENS'][0]: \", acc.summary_record['counters'][\"POSIX_OPENS\"][0])"
   ]
  },
  {
   "cell_type": "code",
   "execution_count": 10,
   "id": "3ac2ed27",
   "metadata": {
    "scrolled": false
   },
   "outputs": [
    {
     "data": {
      "image/png": "[encoded data removed]",
      "text/plain": [
       "<Figure size 432x288 with 1 Axes>"
      ]
     },
     "execution_count": 10,
     "metadata": {},
     "output_type": "execute_result"
    }
   ],
   "source": [
    "# Test for plot_opcounts POSIX\n",
    "from darshan.experimental.plots import plot_opcounts\n",
    "darshan.enable_experimental()\n",
    "plot_opcounts(acc.summary_record, \"POSIX\")"
   ]
  },
  {
   "cell_type": "code",
   "execution_count": 11,
   "id": "64d4ae6d",
   "metadata": {},
   "outputs": [
    {
     "name": "stdout",
     "output_type": "stream",
     "text": [
      "-1\n"
     ]
    },
    {
     "data": {
      "image/png": "[encoded data removed]",
      "text/plain": [
       "<Figure size 432x288 with 1 Axes>"
      ]
     },
     "execution_count": 11,
     "metadata": {},
     "output_type": "execute_result"
    }
   ],
   "source": [
    "# Test for plot_opcounts MPI-IO\n",
    "from darshan.experimental.plots import plot_opcounts\n",
    "acc_MPIIO = accumulate_records(posix_recs, \"MPI-IO\", report.metadata['job']['nprocs'])\n",
    "print(acc_MPIIO.summary_record['counters'][\"MPIIO_INDEP_READS\"][0])\n",
    "darshan.enable_experimental()\n",
    "plot_opcounts(acc_MPIIO.summary_record, \"MPI-IO\")"
   ]
  },
  {
   "cell_type": "code",
   "execution_count": 12,
   "id": "0d57a7da",
   "metadata": {},
   "outputs": [
    {
     "name": "stdout",
     "output_type": "stream",
     "text": [
      "-1\n"
     ]
    },
    {
     "data": {
      "image/png": "[encoded data removed]",
      "text/plain": [
       "<Figure size 432x288 with 1 Axes>"
      ]
     },
     "execution_count": 12,
     "metadata": {},
     "output_type": "execute_result"
    }
   ],
   "source": [
    "# Test for plot_opcounts STDIO\n",
    "from darshan.experimental.plots import plot_opcounts\n",
    "acc_STDIO = accumulate_records(posix_recs, \"STDIO\", report.metadata['job']['nprocs'])\n",
    "print(acc_STDIO.summary_record['counters'][\"STDIO_READS\"][0])\n",
    "darshan.enable_experimental()\n",
    "plot_opcounts(acc_STDIO.summary_record, \"STDIO\")"
   ]
  },
  {
   "cell_type": "code",
   "execution_count": 17,
   "id": "6881d549",
   "metadata": {},
   "outputs": [
    {
     "ename": "ValueError",
     "evalue": "Error: plot_opcounts not supported for module H5F",
     "output_type": "error",
     "traceback": [
      "\u001b[0;31m---------------------------------------------------------------------------\u001b[0m",
      "\u001b[0;31mValueError\u001b[0m                                Traceback (most recent call last)",
      "\u001b[0;32m/var/folders/2v/w7p2schn28lghkn75xm2g8d00000gn/T/ipykernel_23155/138928280.py\u001b[0m in \u001b[0;36m<module>\u001b[0;34m\u001b[0m\n\u001b[1;32m      4\u001b[0m \u001b[0;31m# print(acc_H5F.summary_record['counters'][\"H5F_FLUSHES\"][0])\u001b[0m\u001b[0;34m\u001b[0m\u001b[0;34m\u001b[0m\u001b[0m\n\u001b[1;32m      5\u001b[0m \u001b[0mdarshan\u001b[0m\u001b[0;34m.\u001b[0m\u001b[0menable_experimental\u001b[0m\u001b[0;34m(\u001b[0m\u001b[0;34m)\u001b[0m\u001b[0;34m\u001b[0m\u001b[0;34m\u001b[0m\u001b[0m\n\u001b[0;32m----> 6\u001b[0;31m \u001b[0mplot_opcounts\u001b[0m\u001b[0;34m(\u001b[0m\u001b[0mreport\u001b[0m\u001b[0;34m,\u001b[0m \u001b[0;34m\"H5F\"\u001b[0m\u001b[0;34m)\u001b[0m\u001b[0;34m\u001b[0m\u001b[0;34m\u001b[0m\u001b[0m\n\u001b[0m",
      "\u001b[0;32m~/opt/anaconda3/lib/python3.9/site-packages/darshan/experimental/plots/plot_opcounts.py\u001b[0m in \u001b[0;36mplot_opcounts\u001b[0;34m(record, mod, ax)\u001b[0m\n\u001b[1;32m    170\u001b[0m         \u001b[0mfig\u001b[0m \u001b[0;34m=\u001b[0m \u001b[0;32mNone\u001b[0m\u001b[0;34m\u001b[0m\u001b[0;34m\u001b[0m\u001b[0m\n\u001b[1;32m    171\u001b[0m \u001b[0;34m\u001b[0m\u001b[0m\n\u001b[0;32m--> 172\u001b[0;31m     \u001b[0mlabels\u001b[0m\u001b[0;34m,\u001b[0m \u001b[0mcounts\u001b[0m \u001b[0;34m=\u001b[0m \u001b[0mgather_count_data\u001b[0m\u001b[0;34m(\u001b[0m\u001b[0mrecord\u001b[0m\u001b[0;34m=\u001b[0m\u001b[0mrecord\u001b[0m\u001b[0;34m,\u001b[0m \u001b[0mmod\u001b[0m\u001b[0;34m=\u001b[0m\u001b[0mmod\u001b[0m\u001b[0;34m)\u001b[0m\u001b[0;34m\u001b[0m\u001b[0;34m\u001b[0m\u001b[0m\n\u001b[0m\u001b[1;32m    173\u001b[0m \u001b[0;34m\u001b[0m\u001b[0m\n\u001b[1;32m    174\u001b[0m     \u001b[0mx\u001b[0m \u001b[0;34m=\u001b[0m \u001b[0mnp\u001b[0m\u001b[0;34m.\u001b[0m\u001b[0marange\u001b[0m\u001b[0;34m(\u001b[0m\u001b[0mlen\u001b[0m\u001b[0;34m(\u001b[0m\u001b[0mlabels\u001b[0m\u001b[0;34m)\u001b[0m\u001b[0;34m)\u001b[0m  \u001b[0;31m# the label locations\u001b[0m\u001b[0;34m\u001b[0m\u001b[0;34m\u001b[0m\u001b[0m\n",
      "\u001b[0;32m~/opt/anaconda3/lib/python3.9/site-packages/darshan/experimental/plots/plot_opcounts.py\u001b[0m in \u001b[0;36mgather_count_data\u001b[0;34m(record, mod)\u001b[0m\n\u001b[1;32m     29\u001b[0m     \u001b[0;32mif\u001b[0m \u001b[0mmod\u001b[0m \u001b[0;32min\u001b[0m \u001b[0;34m[\u001b[0m\u001b[0;34m'H5F'\u001b[0m\u001b[0;34m,\u001b[0m \u001b[0;34m'H5D'\u001b[0m\u001b[0;34m,\u001b[0m \u001b[0;34m'PNETCDF_FILE'\u001b[0m\u001b[0;34m,\u001b[0m \u001b[0;34m'PNETCDF_VAR'\u001b[0m\u001b[0;34m]\u001b[0m\u001b[0;34m:\u001b[0m\u001b[0;34m\u001b[0m\u001b[0;34m\u001b[0m\u001b[0m\n\u001b[1;32m     30\u001b[0m \u001b[0;34m\u001b[0m\u001b[0m\n\u001b[0;32m---> 31\u001b[0;31m         \u001b[0;32mraise\u001b[0m \u001b[0mValueError\u001b[0m\u001b[0;34m(\u001b[0m\u001b[0;34mf\"Error: plot_opcounts not supported for module {mod}\"\u001b[0m\u001b[0;34m)\u001b[0m\u001b[0;34m\u001b[0m\u001b[0;34m\u001b[0m\u001b[0m\n\u001b[0m\u001b[1;32m     32\u001b[0m     \u001b[0mmod_data\u001b[0m \u001b[0;34m=\u001b[0m \u001b[0mrecord\u001b[0m\u001b[0;34m[\u001b[0m\u001b[0;34m'counters'\u001b[0m\u001b[0;34m]\u001b[0m\u001b[0;34m\u001b[0m\u001b[0;34m\u001b[0m\u001b[0m\n\u001b[1;32m     33\u001b[0m     \u001b[0;31m# Gather POSIX\u001b[0m\u001b[0;34m\u001b[0m\u001b[0;34m\u001b[0m\u001b[0m\n",
      "\u001b[0;31mValueError\u001b[0m: Error: plot_opcounts not supported for module H5F"
     ]
    },
    {
     "data": {
      "image/png": "[encoded data removed]",
      "text/plain": [
       "<Figure size 432x288 with 1 Axes>"
      ]
     },
     "metadata": {
      "needs_background": "light"
     },
     "output_type": "display_data"
    }
   ],
   "source": [
    "#Test for plot_opcounts H5F\n",
    "from darshan.experimental.plots import plot_opcounts\n",
    "# acc_H5F = accumulate_records(posix_recs, \"H5F\", report.metadata['job']['nprocs'])\n",
    "# print(acc_H5F.summary_record['counters'][\"H5F_FLUSHES\"][0])\n",
    "darshan.enable_experimental()\n",
    "plot_opcounts(report, \"H5F\")"
   ]
  },
  {
   "cell_type": "code",
   "execution_count": 14,
   "id": "862437d8",
   "metadata": {},
   "outputs": [
    {
     "ename": "ValueError",
     "evalue": "Error: plot_opcounts not supported for module PNETCDF_FILE",
     "output_type": "error",
     "traceback": [
      "\u001b[0;31m---------------------------------------------------------------------------\u001b[0m",
      "\u001b[0;31mValueError\u001b[0m                                Traceback (most recent call last)",
      "\u001b[0;32m/var/folders/2v/w7p2schn28lghkn75xm2g8d00000gn/T/ipykernel_23155/651463565.py\u001b[0m in \u001b[0;36m<module>\u001b[0;34m\u001b[0m\n\u001b[1;32m      4\u001b[0m \u001b[0;31m# print(acc_PNETCDF_FILE.summary_record['counters'][\"PNETCDF_FILE_SYNCS\"][0])\u001b[0m\u001b[0;34m\u001b[0m\u001b[0;34m\u001b[0m\u001b[0m\n\u001b[1;32m      5\u001b[0m \u001b[0;31m# darshan.enable_experimental()\u001b[0m\u001b[0;34m\u001b[0m\u001b[0;34m\u001b[0m\u001b[0m\n\u001b[0;32m----> 6\u001b[0;31m \u001b[0mplot_opcounts\u001b[0m\u001b[0;34m(\u001b[0m\u001b[0mreport\u001b[0m\u001b[0;34m,\u001b[0m \u001b[0;34m\"PNETCDF_FILE\"\u001b[0m\u001b[0;34m)\u001b[0m\u001b[0;34m\u001b[0m\u001b[0;34m\u001b[0m\u001b[0m\n\u001b[0m",
      "\u001b[0;32m~/opt/anaconda3/lib/python3.9/site-packages/darshan/experimental/plots/plot_opcounts.py\u001b[0m in \u001b[0;36mplot_opcounts\u001b[0;34m(record, mod, ax)\u001b[0m\n\u001b[1;32m    170\u001b[0m         \u001b[0mfig\u001b[0m \u001b[0;34m=\u001b[0m \u001b[0;32mNone\u001b[0m\u001b[0;34m\u001b[0m\u001b[0;34m\u001b[0m\u001b[0m\n\u001b[1;32m    171\u001b[0m \u001b[0;34m\u001b[0m\u001b[0m\n\u001b[0;32m--> 172\u001b[0;31m     \u001b[0mlabels\u001b[0m\u001b[0;34m,\u001b[0m \u001b[0mcounts\u001b[0m \u001b[0;34m=\u001b[0m \u001b[0mgather_count_data\u001b[0m\u001b[0;34m(\u001b[0m\u001b[0mrecord\u001b[0m\u001b[0;34m=\u001b[0m\u001b[0mrecord\u001b[0m\u001b[0;34m,\u001b[0m \u001b[0mmod\u001b[0m\u001b[0;34m=\u001b[0m\u001b[0mmod\u001b[0m\u001b[0;34m)\u001b[0m\u001b[0;34m\u001b[0m\u001b[0;34m\u001b[0m\u001b[0m\n\u001b[0m\u001b[1;32m    173\u001b[0m \u001b[0;34m\u001b[0m\u001b[0m\n\u001b[1;32m    174\u001b[0m     \u001b[0mx\u001b[0m \u001b[0;34m=\u001b[0m \u001b[0mnp\u001b[0m\u001b[0;34m.\u001b[0m\u001b[0marange\u001b[0m\u001b[0;34m(\u001b[0m\u001b[0mlen\u001b[0m\u001b[0;34m(\u001b[0m\u001b[0mlabels\u001b[0m\u001b[0;34m)\u001b[0m\u001b[0;34m)\u001b[0m  \u001b[0;31m# the label locations\u001b[0m\u001b[0;34m\u001b[0m\u001b[0;34m\u001b[0m\u001b[0m\n",
      "\u001b[0;32m~/opt/anaconda3/lib/python3.9/site-packages/darshan/experimental/plots/plot_opcounts.py\u001b[0m in \u001b[0;36mgather_count_data\u001b[0;34m(record, mod)\u001b[0m\n\u001b[1;32m     29\u001b[0m     \u001b[0;32mif\u001b[0m \u001b[0mmod\u001b[0m \u001b[0;32min\u001b[0m \u001b[0;34m[\u001b[0m\u001b[0;34m'H5F'\u001b[0m\u001b[0;34m,\u001b[0m \u001b[0;34m'H5D'\u001b[0m\u001b[0;34m,\u001b[0m \u001b[0;34m'PNETCDF_FILE'\u001b[0m\u001b[0;34m,\u001b[0m \u001b[0;34m'PNETCDF_VAR'\u001b[0m\u001b[0;34m]\u001b[0m\u001b[0;34m:\u001b[0m\u001b[0;34m\u001b[0m\u001b[0;34m\u001b[0m\u001b[0m\n\u001b[1;32m     30\u001b[0m \u001b[0;34m\u001b[0m\u001b[0m\n\u001b[0;32m---> 31\u001b[0;31m         \u001b[0;32mraise\u001b[0m \u001b[0mValueError\u001b[0m\u001b[0;34m(\u001b[0m\u001b[0;34mf\"Error: plot_opcounts not supported for module {mod}\"\u001b[0m\u001b[0;34m)\u001b[0m\u001b[0;34m\u001b[0m\u001b[0;34m\u001b[0m\u001b[0m\n\u001b[0m\u001b[1;32m     32\u001b[0m     \u001b[0mmod_data\u001b[0m \u001b[0;34m=\u001b[0m \u001b[0mrecord\u001b[0m\u001b[0;34m[\u001b[0m\u001b[0;34m'counters'\u001b[0m\u001b[0;34m]\u001b[0m\u001b[0;34m\u001b[0m\u001b[0;34m\u001b[0m\u001b[0m\n\u001b[1;32m     33\u001b[0m     \u001b[0;31m# Gather POSIX\u001b[0m\u001b[0;34m\u001b[0m\u001b[0;34m\u001b[0m\u001b[0m\n",
      "\u001b[0;31mValueError\u001b[0m: Error: plot_opcounts not supported for module PNETCDF_FILE"
     ]
    },
    {
     "data": {
      "image/png": "[encoded data removed]",
      "text/plain": [
       "<Figure size 432x288 with 1 Axes>"
      ]
     },
     "metadata": {
      "needs_background": "light"
     },
     "output_type": "display_data"
    }
   ],
   "source": [
    "#Test for plot_opcounts PNETCDF_FILE\n",
    "from darshan.experimental.plots import plot_opcounts\n",
    "# acc_PNETCDF_FILE = accumulate_records(posix_recs, \"PNETCDF_FILE\", report.metadata['job']['nprocs'])\n",
    "# print(acc_PNETCDF_FILE.summary_record['counters'][\"PNETCDF_FILE_SYNCS\"][0])\n",
    "# darshan.enable_experimental()\n",
    "plot_opcounts(report, \"PNETCDF_FILE\")"
   ]
  },
  {
   "cell_type": "code",
   "execution_count": 15,
   "id": "dece9aaa",
   "metadata": {},
   "outputs": [
    {
     "data": {
      "image/png": "[encoded data removed]",
      "text/plain": [
       "<Figure size 432x288 with 1 Axes>"
      ]
     },
     "execution_count": 15,
     "metadata": {},
     "output_type": "execute_result"
    }
   ],
   "source": [
    "# Test for plot_posix_access_pattern\n",
    "from darshan.experimental.plots import plot_posix_access_pattern\n",
    "darshan.enable_experimental()\n",
    "plot_posix_access_pattern(acc.summary_record)"
   ]
  }
 ],
 "metadata": {
  "kernelspec": {
   "display_name": "Python 3 (ipykernel)",
   "language": "python",
   "name": "python3"
  },
  "language_info": {
   "codemirror_mode": {
    "name": "ipython",
    "version": 3
   },
   "file_extension": ".py",
   "mimetype": "text/x-python",
   "name": "python",
   "nbconvert_exporter": "python",
   "pygments_lexer": "ipython3",
   "version": "3.9.7"
  },
  "toc": {
   "base_numbering": 1,
   "nav_menu": {},
   "number_sections": true,
   "sideBar": true,
   "skip_h1_title": false,
   "title_cell": "Table of Contents",
   "title_sidebar": "Contents",
   "toc_cell": false,
   "toc_position": {},
   "toc_section_display": true,
   "toc_window_display": false
  }
 },
 "nbformat": 4,
 "nbformat_minor": 5
}
